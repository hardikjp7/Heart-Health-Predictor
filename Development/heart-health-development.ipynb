{
 "cells": [
  {
   "cell_type": "code",
   "execution_count": 1,
   "metadata": {
    "id": "M0X-juqxEVOG"
   },
   "outputs": [],
   "source": [
    "import numpy as np \n",
    "import pandas as pd \n",
    "import matplotlib.pyplot as plt\n",
    "import seaborn as sns"
   ]
  },
  {
   "cell_type": "code",
   "execution_count": 2,
   "metadata": {
    "colab": {
     "base_uri": "https://localhost:8080/",
     "height": 206
    },
    "id": "KWT24cTEEVOU",
    "outputId": "0ea8ae36-e81d-4efa-b10c-27f443d2e611"
   },
   "outputs": [
    {
     "data": {
      "text/html": [
       "<div>\n",
       "<style scoped>\n",
       "    .dataframe tbody tr th:only-of-type {\n",
       "        vertical-align: middle;\n",
       "    }\n",
       "\n",
       "    .dataframe tbody tr th {\n",
       "        vertical-align: top;\n",
       "    }\n",
       "\n",
       "    .dataframe thead th {\n",
       "        text-align: right;\n",
       "    }\n",
       "</style>\n",
       "<table border=\"1\" class=\"dataframe\">\n",
       "  <thead>\n",
       "    <tr style=\"text-align: right;\">\n",
       "      <th></th>\n",
       "      <th>age</th>\n",
       "      <th>sex</th>\n",
       "      <th>cp</th>\n",
       "      <th>trestbps</th>\n",
       "      <th>chol</th>\n",
       "      <th>fbs</th>\n",
       "      <th>restecg</th>\n",
       "      <th>thalach</th>\n",
       "      <th>exang</th>\n",
       "      <th>oldpeak</th>\n",
       "      <th>slope</th>\n",
       "      <th>ca</th>\n",
       "      <th>thal</th>\n",
       "      <th>target</th>\n",
       "    </tr>\n",
       "  </thead>\n",
       "  <tbody>\n",
       "    <tr>\n",
       "      <th>0</th>\n",
       "      <td>52</td>\n",
       "      <td>1</td>\n",
       "      <td>0</td>\n",
       "      <td>125</td>\n",
       "      <td>212</td>\n",
       "      <td>0</td>\n",
       "      <td>1</td>\n",
       "      <td>168</td>\n",
       "      <td>0</td>\n",
       "      <td>1.0</td>\n",
       "      <td>2</td>\n",
       "      <td>2</td>\n",
       "      <td>3</td>\n",
       "      <td>0</td>\n",
       "    </tr>\n",
       "    <tr>\n",
       "      <th>1</th>\n",
       "      <td>53</td>\n",
       "      <td>1</td>\n",
       "      <td>0</td>\n",
       "      <td>140</td>\n",
       "      <td>203</td>\n",
       "      <td>1</td>\n",
       "      <td>0</td>\n",
       "      <td>155</td>\n",
       "      <td>1</td>\n",
       "      <td>3.1</td>\n",
       "      <td>0</td>\n",
       "      <td>0</td>\n",
       "      <td>3</td>\n",
       "      <td>0</td>\n",
       "    </tr>\n",
       "    <tr>\n",
       "      <th>2</th>\n",
       "      <td>70</td>\n",
       "      <td>1</td>\n",
       "      <td>0</td>\n",
       "      <td>145</td>\n",
       "      <td>174</td>\n",
       "      <td>0</td>\n",
       "      <td>1</td>\n",
       "      <td>125</td>\n",
       "      <td>1</td>\n",
       "      <td>2.6</td>\n",
       "      <td>0</td>\n",
       "      <td>0</td>\n",
       "      <td>3</td>\n",
       "      <td>0</td>\n",
       "    </tr>\n",
       "    <tr>\n",
       "      <th>3</th>\n",
       "      <td>61</td>\n",
       "      <td>1</td>\n",
       "      <td>0</td>\n",
       "      <td>148</td>\n",
       "      <td>203</td>\n",
       "      <td>0</td>\n",
       "      <td>1</td>\n",
       "      <td>161</td>\n",
       "      <td>0</td>\n",
       "      <td>0.0</td>\n",
       "      <td>2</td>\n",
       "      <td>1</td>\n",
       "      <td>3</td>\n",
       "      <td>0</td>\n",
       "    </tr>\n",
       "    <tr>\n",
       "      <th>4</th>\n",
       "      <td>62</td>\n",
       "      <td>0</td>\n",
       "      <td>0</td>\n",
       "      <td>138</td>\n",
       "      <td>294</td>\n",
       "      <td>1</td>\n",
       "      <td>1</td>\n",
       "      <td>106</td>\n",
       "      <td>0</td>\n",
       "      <td>1.9</td>\n",
       "      <td>1</td>\n",
       "      <td>3</td>\n",
       "      <td>2</td>\n",
       "      <td>0</td>\n",
       "    </tr>\n",
       "  </tbody>\n",
       "</table>\n",
       "</div>"
      ],
      "text/plain": [
       "   age  sex  cp  trestbps  chol  fbs  restecg  thalach  exang  oldpeak  slope  \\\n",
       "0   52    1   0       125   212    0        1      168      0      1.0      2   \n",
       "1   53    1   0       140   203    1        0      155      1      3.1      0   \n",
       "2   70    1   0       145   174    0        1      125      1      2.6      0   \n",
       "3   61    1   0       148   203    0        1      161      0      0.0      2   \n",
       "4   62    0   0       138   294    1        1      106      0      1.9      1   \n",
       "\n",
       "   ca  thal  target  \n",
       "0   2     3       0  \n",
       "1   0     3       0  \n",
       "2   0     3       0  \n",
       "3   1     3       0  \n",
       "4   3     2       0  "
      ]
     },
     "execution_count": 2,
     "metadata": {},
     "output_type": "execute_result"
    }
   ],
   "source": [
    "df=pd.read_csv(\"heart.csv\")\n",
    "df.head()"
   ]
  },
  {
   "cell_type": "code",
   "execution_count": 3,
   "metadata": {
    "colab": {
     "base_uri": "https://localhost:8080/"
    },
    "id": "xF2kqW06EVOX",
    "outputId": "3681f862-fec9-4101-dbd7-91d31fd25295"
   },
   "outputs": [
    {
     "name": "stdout",
     "output_type": "stream",
     "text": [
      "<class 'pandas.core.frame.DataFrame'>\n",
      "RangeIndex: 1025 entries, 0 to 1024\n",
      "Data columns (total 14 columns):\n",
      " #   Column    Non-Null Count  Dtype  \n",
      "---  ------    --------------  -----  \n",
      " 0   age       1025 non-null   int64  \n",
      " 1   sex       1025 non-null   int64  \n",
      " 2   cp        1025 non-null   int64  \n",
      " 3   trestbps  1025 non-null   int64  \n",
      " 4   chol      1025 non-null   int64  \n",
      " 5   fbs       1025 non-null   int64  \n",
      " 6   restecg   1025 non-null   int64  \n",
      " 7   thalach   1025 non-null   int64  \n",
      " 8   exang     1025 non-null   int64  \n",
      " 9   oldpeak   1025 non-null   float64\n",
      " 10  slope     1025 non-null   int64  \n",
      " 11  ca        1025 non-null   int64  \n",
      " 12  thal      1025 non-null   int64  \n",
      " 13  target    1025 non-null   int64  \n",
      "dtypes: float64(1), int64(13)\n",
      "memory usage: 112.2 KB\n"
     ]
    }
   ],
   "source": [
    "df.info()"
   ]
  },
  {
   "cell_type": "code",
   "execution_count": 4,
   "metadata": {
    "colab": {
     "base_uri": "https://localhost:8080/"
    },
    "id": "ZSQx6wXEEVOc",
    "outputId": "04552132-f767-42e5-a454-8c6354f114b6"
   },
   "outputs": [
    {
     "data": {
      "text/plain": [
       "age         0\n",
       "sex         0\n",
       "cp          0\n",
       "trestbps    0\n",
       "chol        0\n",
       "fbs         0\n",
       "restecg     0\n",
       "thalach     0\n",
       "exang       0\n",
       "oldpeak     0\n",
       "slope       0\n",
       "ca          0\n",
       "thal        0\n",
       "target      0\n",
       "dtype: int64"
      ]
     },
     "execution_count": 4,
     "metadata": {},
     "output_type": "execute_result"
    }
   ],
   "source": [
    "df.isna().sum()"
   ]
  },
  {
   "cell_type": "markdown",
   "metadata": {
    "id": "oqkJgLMrEVOf"
   },
   "source": [
    "### **Number of males and females whose heart data is stored in the dataset**"
   ]
  },
  {
   "cell_type": "code",
   "execution_count": 5,
   "metadata": {
    "colab": {
     "base_uri": "https://localhost:8080/"
    },
    "id": "U7oxMcTgEVOi",
    "outputId": "03092239-7f82-4391-fa05-e7218aeb1166"
   },
   "outputs": [
    {
     "data": {
      "text/plain": [
       "1    713\n",
       "0    312\n",
       "Name: sex, dtype: int64"
      ]
     },
     "execution_count": 5,
     "metadata": {},
     "output_type": "execute_result"
    }
   ],
   "source": [
    "df.sex.value_counts()"
   ]
  },
  {
   "cell_type": "markdown",
   "metadata": {
    "id": "rEe007x8EVOl"
   },
   "source": [
    " ### **Count of the number of males and females who have heart disease**"
   ]
  },
  {
   "cell_type": "code",
   "execution_count": 6,
   "metadata": {
    "colab": {
     "base_uri": "https://localhost:8080/"
    },
    "id": "b12dMswFEVOn",
    "outputId": "f6e35e8b-af02-4913-887a-05a6ec9964ce"
   },
   "outputs": [
    {
     "data": {
      "text/plain": [
       "1    300\n",
       "0    226\n",
       "Name: sex, dtype: int64"
      ]
     },
     "execution_count": 6,
     "metadata": {},
     "output_type": "execute_result"
    }
   ],
   "source": [
    "df.sex[df.target==1].value_counts()"
   ]
  },
  {
   "cell_type": "code",
   "execution_count": 7,
   "metadata": {
    "colab": {
     "base_uri": "https://localhost:8080/",
     "height": 390
    },
    "id": "daintKdWEVOu",
    "outputId": "83307632-d8bb-4c2e-c080-8dfc8618e2af"
   },
   "outputs": [
    {
     "data": {
      "image/png": "[encoded data removed]",
      "text/plain": [
       "<Figure size 1000x600 with 1 Axes>"
      ]
     },
     "metadata": {},
     "output_type": "display_data"
    }
   ],
   "source": [
    "df.sex[df.target==1].value_counts().plot(kind='bar',figsize=(10,6),color=['green','blue'])\n",
    "plt.title(\"Count of the number of males and females with heart disease\")\n",
    "plt.xticks(rotation=0);"
   ]
  },
  {
   "cell_type": "code",
   "execution_count": 8,
   "metadata": {
    "colab": {
     "base_uri": "https://localhost:8080/",
     "height": 143
    },
    "id": "6MfII6HcEVOy",
    "outputId": "7d377f2a-cf38-4ac1-9fa4-95bfef204ef3"
   },
   "outputs": [
    {
     "data": {
      "text/html": [
       "<div>\n",
       "<style scoped>\n",
       "    .dataframe tbody tr th:only-of-type {\n",
       "        vertical-align: middle;\n",
       "    }\n",
       "\n",
       "    .dataframe tbody tr th {\n",
       "        vertical-align: top;\n",
       "    }\n",
       "\n",
       "    .dataframe thead th {\n",
       "        text-align: right;\n",
       "    }\n",
       "</style>\n",
       "<table border=\"1\" class=\"dataframe\">\n",
       "  <thead>\n",
       "    <tr style=\"text-align: right;\">\n",
       "      <th>sex</th>\n",
       "      <th>0</th>\n",
       "      <th>1</th>\n",
       "    </tr>\n",
       "    <tr>\n",
       "      <th>target</th>\n",
       "      <th></th>\n",
       "      <th></th>\n",
       "    </tr>\n",
       "  </thead>\n",
       "  <tbody>\n",
       "    <tr>\n",
       "      <th>0</th>\n",
       "      <td>86</td>\n",
       "      <td>413</td>\n",
       "    </tr>\n",
       "    <tr>\n",
       "      <th>1</th>\n",
       "      <td>226</td>\n",
       "      <td>300</td>\n",
       "    </tr>\n",
       "  </tbody>\n",
       "</table>\n",
       "</div>"
      ],
      "text/plain": [
       "sex       0    1\n",
       "target          \n",
       "0        86  413\n",
       "1       226  300"
      ]
     },
     "execution_count": 8,
     "metadata": {},
     "output_type": "execute_result"
    }
   ],
   "source": [
    "pd.crosstab(df.target,df.sex)"
   ]
  },
  {
   "cell_type": "code",
   "execution_count": 9,
   "metadata": {
    "colab": {
     "base_uri": "https://localhost:8080/",
     "height": 404
    },
    "id": "WaxdZreoEVO1",
    "outputId": "a2e54e42-84c3-4831-f2b2-65ea53ea611a"
   },
   "outputs": [
    {
     "data": {
      "image/png": "[encoded data removed]",
      "text/plain": [
       "<Figure size 1000x600 with 1 Axes>"
      ]
     },
     "metadata": {},
     "output_type": "display_data"
    }
   ],
   "source": [
    "pd.crosstab(df.target,df.sex).plot(kind='bar',figsize=(10,6),color=[\"lightblue\",\"pink\"])\n",
    "plt.title(\"Frequency of Heart Disease vs Sex\")\n",
    "plt.xlabel(\"0= Heart Disease, 1= No disease\")\n",
    "plt.ylabel(\"Number of people with heart disease\")\n",
    "plt.legend([\"Female\",\"Male\"])\n",
    "plt.xticks(rotation=0);"
   ]
  },
  {
   "cell_type": "markdown",
   "metadata": {
    "id": "58TLsdQsEVO5"
   },
   "source": [
    "## **Building a Correlation Matrix**"
   ]
  },
  {
   "cell_type": "code",
   "execution_count": 10,
   "metadata": {
    "colab": {
     "base_uri": "https://localhost:8080/",
     "height": 489
    },
    "id": "HyJS9GgKEVO6",
    "outputId": "beafcc98-6148-4de4-bc23-85b0ff48f205"
   },
   "outputs": [
    {
     "data": {
      "text/html": [
       "<div>\n",
       "<style scoped>\n",
       "    .dataframe tbody tr th:only-of-type {\n",
       "        vertical-align: middle;\n",
       "    }\n",
       "\n",
       "    .dataframe tbody tr th {\n",
       "        vertical-align: top;\n",
       "    }\n",
       "\n",
       "    .dataframe thead th {\n",
       "        text-align: right;\n",
       "    }\n",
       "</style>\n",
       "<table border=\"1\" class=\"dataframe\">\n",
       "  <thead>\n",
       "    <tr style=\"text-align: right;\">\n",
       "      <th></th>\n",
       "      <th>age</th>\n",
       "      <th>sex</th>\n",
       "      <th>cp</th>\n",
       "      <th>trestbps</th>\n",
       "      <th>chol</th>\n",
       "      <th>fbs</th>\n",
       "      <th>restecg</th>\n",
       "      <th>thalach</th>\n",
       "      <th>exang</th>\n",
       "      <th>oldpeak</th>\n",
       "      <th>slope</th>\n",
       "      <th>ca</th>\n",
       "      <th>thal</th>\n",
       "      <th>target</th>\n",
       "    </tr>\n",
       "  </thead>\n",
       "  <tbody>\n",
       "    <tr>\n",
       "      <th>age</th>\n",
       "      <td>1.000000</td>\n",
       "      <td>-0.103240</td>\n",
       "      <td>-0.071966</td>\n",
       "      <td>0.271121</td>\n",
       "      <td>0.219823</td>\n",
       "      <td>0.121243</td>\n",
       "      <td>-0.132696</td>\n",
       "      <td>-0.390227</td>\n",
       "      <td>0.088163</td>\n",
       "      <td>0.208137</td>\n",
       "      <td>-0.169105</td>\n",
       "      <td>0.271551</td>\n",
       "      <td>0.072297</td>\n",
       "      <td>-0.229324</td>\n",
       "    </tr>\n",
       "    <tr>\n",
       "      <th>sex</th>\n",
       "      <td>-0.103240</td>\n",
       "      <td>1.000000</td>\n",
       "      <td>-0.041119</td>\n",
       "      <td>-0.078974</td>\n",
       "      <td>-0.198258</td>\n",
       "      <td>0.027200</td>\n",
       "      <td>-0.055117</td>\n",
       "      <td>-0.049365</td>\n",
       "      <td>0.139157</td>\n",
       "      <td>0.084687</td>\n",
       "      <td>-0.026666</td>\n",
       "      <td>0.111729</td>\n",
       "      <td>0.198424</td>\n",
       "      <td>-0.279501</td>\n",
       "    </tr>\n",
       "    <tr>\n",
       "      <th>cp</th>\n",
       "      <td>-0.071966</td>\n",
       "      <td>-0.041119</td>\n",
       "      <td>1.000000</td>\n",
       "      <td>0.038177</td>\n",
       "      <td>-0.081641</td>\n",
       "      <td>0.079294</td>\n",
       "      <td>0.043581</td>\n",
       "      <td>0.306839</td>\n",
       "      <td>-0.401513</td>\n",
       "      <td>-0.174733</td>\n",
       "      <td>0.131633</td>\n",
       "      <td>-0.176206</td>\n",
       "      <td>-0.163341</td>\n",
       "      <td>0.434854</td>\n",
       "    </tr>\n",
       "    <tr>\n",
       "      <th>trestbps</th>\n",
       "      <td>0.271121</td>\n",
       "      <td>-0.078974</td>\n",
       "      <td>0.038177</td>\n",
       "      <td>1.000000</td>\n",
       "      <td>0.127977</td>\n",
       "      <td>0.181767</td>\n",
       "      <td>-0.123794</td>\n",
       "      <td>-0.039264</td>\n",
       "      <td>0.061197</td>\n",
       "      <td>0.187434</td>\n",
       "      <td>-0.120445</td>\n",
       "      <td>0.104554</td>\n",
       "      <td>0.059276</td>\n",
       "      <td>-0.138772</td>\n",
       "    </tr>\n",
       "    <tr>\n",
       "      <th>chol</th>\n",
       "      <td>0.219823</td>\n",
       "      <td>-0.198258</td>\n",
       "      <td>-0.081641</td>\n",
       "      <td>0.127977</td>\n",
       "      <td>1.000000</td>\n",
       "      <td>0.026917</td>\n",
       "      <td>-0.147410</td>\n",
       "      <td>-0.021772</td>\n",
       "      <td>0.067382</td>\n",
       "      <td>0.064880</td>\n",
       "      <td>-0.014248</td>\n",
       "      <td>0.074259</td>\n",
       "      <td>0.100244</td>\n",
       "      <td>-0.099966</td>\n",
       "    </tr>\n",
       "    <tr>\n",
       "      <th>fbs</th>\n",
       "      <td>0.121243</td>\n",
       "      <td>0.027200</td>\n",
       "      <td>0.079294</td>\n",
       "      <td>0.181767</td>\n",
       "      <td>0.026917</td>\n",
       "      <td>1.000000</td>\n",
       "      <td>-0.104051</td>\n",
       "      <td>-0.008866</td>\n",
       "      <td>0.049261</td>\n",
       "      <td>0.010859</td>\n",
       "      <td>-0.061902</td>\n",
       "      <td>0.137156</td>\n",
       "      <td>-0.042177</td>\n",
       "      <td>-0.041164</td>\n",
       "    </tr>\n",
       "    <tr>\n",
       "      <th>restecg</th>\n",
       "      <td>-0.132696</td>\n",
       "      <td>-0.055117</td>\n",
       "      <td>0.043581</td>\n",
       "      <td>-0.123794</td>\n",
       "      <td>-0.147410</td>\n",
       "      <td>-0.104051</td>\n",
       "      <td>1.000000</td>\n",
       "      <td>0.048411</td>\n",
       "      <td>-0.065606</td>\n",
       "      <td>-0.050114</td>\n",
       "      <td>0.086086</td>\n",
       "      <td>-0.078072</td>\n",
       "      <td>-0.020504</td>\n",
       "      <td>0.134468</td>\n",
       "    </tr>\n",
       "    <tr>\n",
       "      <th>thalach</th>\n",
       "      <td>-0.390227</td>\n",
       "      <td>-0.049365</td>\n",
       "      <td>0.306839</td>\n",
       "      <td>-0.039264</td>\n",
       "      <td>-0.021772</td>\n",
       "      <td>-0.008866</td>\n",
       "      <td>0.048411</td>\n",
       "      <td>1.000000</td>\n",
       "      <td>-0.380281</td>\n",
       "      <td>-0.349796</td>\n",
       "      <td>0.395308</td>\n",
       "      <td>-0.207888</td>\n",
       "      <td>-0.098068</td>\n",
       "      <td>0.422895</td>\n",
       "    </tr>\n",
       "    <tr>\n",
       "      <th>exang</th>\n",
       "      <td>0.088163</td>\n",
       "      <td>0.139157</td>\n",
       "      <td>-0.401513</td>\n",
       "      <td>0.061197</td>\n",
       "      <td>0.067382</td>\n",
       "      <td>0.049261</td>\n",
       "      <td>-0.065606</td>\n",
       "      <td>-0.380281</td>\n",
       "      <td>1.000000</td>\n",
       "      <td>0.310844</td>\n",
       "      <td>-0.267335</td>\n",
       "      <td>0.107849</td>\n",
       "      <td>0.197201</td>\n",
       "      <td>-0.438029</td>\n",
       "    </tr>\n",
       "    <tr>\n",
       "      <th>oldpeak</th>\n",
       "      <td>0.208137</td>\n",
       "      <td>0.084687</td>\n",
       "      <td>-0.174733</td>\n",
       "      <td>0.187434</td>\n",
       "      <td>0.064880</td>\n",
       "      <td>0.010859</td>\n",
       "      <td>-0.050114</td>\n",
       "      <td>-0.349796</td>\n",
       "      <td>0.310844</td>\n",
       "      <td>1.000000</td>\n",
       "      <td>-0.575189</td>\n",
       "      <td>0.221816</td>\n",
       "      <td>0.202672</td>\n",
       "      <td>-0.438441</td>\n",
       "    </tr>\n",
       "    <tr>\n",
       "      <th>slope</th>\n",
       "      <td>-0.169105</td>\n",
       "      <td>-0.026666</td>\n",
       "      <td>0.131633</td>\n",
       "      <td>-0.120445</td>\n",
       "      <td>-0.014248</td>\n",
       "      <td>-0.061902</td>\n",
       "      <td>0.086086</td>\n",
       "      <td>0.395308</td>\n",
       "      <td>-0.267335</td>\n",
       "      <td>-0.575189</td>\n",
       "      <td>1.000000</td>\n",
       "      <td>-0.073440</td>\n",
       "      <td>-0.094090</td>\n",
       "      <td>0.345512</td>\n",
       "    </tr>\n",
       "    <tr>\n",
       "      <th>ca</th>\n",
       "      <td>0.271551</td>\n",
       "      <td>0.111729</td>\n",
       "      <td>-0.176206</td>\n",
       "      <td>0.104554</td>\n",
       "      <td>0.074259</td>\n",
       "      <td>0.137156</td>\n",
       "      <td>-0.078072</td>\n",
       "      <td>-0.207888</td>\n",
       "      <td>0.107849</td>\n",
       "      <td>0.221816</td>\n",
       "      <td>-0.073440</td>\n",
       "      <td>1.000000</td>\n",
       "      <td>0.149014</td>\n",
       "      <td>-0.382085</td>\n",
       "    </tr>\n",
       "    <tr>\n",
       "      <th>thal</th>\n",
       "      <td>0.072297</td>\n",
       "      <td>0.198424</td>\n",
       "      <td>-0.163341</td>\n",
       "      <td>0.059276</td>\n",
       "      <td>0.100244</td>\n",
       "      <td>-0.042177</td>\n",
       "      <td>-0.020504</td>\n",
       "      <td>-0.098068</td>\n",
       "      <td>0.197201</td>\n",
       "      <td>0.202672</td>\n",
       "      <td>-0.094090</td>\n",
       "      <td>0.149014</td>\n",
       "      <td>1.000000</td>\n",
       "      <td>-0.337838</td>\n",
       "    </tr>\n",
       "    <tr>\n",
       "      <th>target</th>\n",
       "      <td>-0.229324</td>\n",
       "      <td>-0.279501</td>\n",
       "      <td>0.434854</td>\n",
       "      <td>-0.138772</td>\n",
       "      <td>-0.099966</td>\n",
       "      <td>-0.041164</td>\n",
       "      <td>0.134468</td>\n",
       "      <td>0.422895</td>\n",
       "      <td>-0.438029</td>\n",
       "      <td>-0.438441</td>\n",
       "      <td>0.345512</td>\n",
       "      <td>-0.382085</td>\n",
       "      <td>-0.337838</td>\n",
       "      <td>1.000000</td>\n",
       "    </tr>\n",
       "  </tbody>\n",
       "</table>\n",
       "</div>"
      ],
      "text/plain": [
       "               age       sex        cp  trestbps      chol       fbs  \\\n",
       "age       1.000000 -0.103240 -0.071966  0.271121  0.219823  0.121243   \n",
       "sex      -0.103240  1.000000 -0.041119 -0.078974 -0.198258  0.027200   \n",
       "cp       -0.071966 -0.041119  1.000000  0.038177 -0.081641  0.079294   \n",
       "trestbps  0.271121 -0.078974  0.038177  1.000000  0.127977  0.181767   \n",
       "chol      0.219823 -0.198258 -0.081641  0.127977  1.000000  0.026917   \n",
       "fbs       0.121243  0.027200  0.079294  0.181767  0.026917  1.000000   \n",
       "restecg  -0.132696 -0.055117  0.043581 -0.123794 -0.147410 -0.104051   \n",
       "thalach  -0.390227 -0.049365  0.306839 -0.039264 -0.021772 -0.008866   \n",
       "exang     0.088163  0.139157 -0.401513  0.061197  0.067382  0.049261   \n",
       "oldpeak   0.208137  0.084687 -0.174733  0.187434  0.064880  0.010859   \n",
       "slope    -0.169105 -0.026666  0.131633 -0.120445 -0.014248 -0.061902   \n",
       "ca        0.271551  0.111729 -0.176206  0.104554  0.074259  0.137156   \n",
       "thal      0.072297  0.198424 -0.163341  0.059276  0.100244 -0.042177   \n",
       "target   -0.229324 -0.279501  0.434854 -0.138772 -0.099966 -0.041164   \n",
       "\n",
       "           restecg   thalach     exang   oldpeak     slope        ca  \\\n",
       "age      -0.132696 -0.390227  0.088163  0.208137 -0.169105  0.271551   \n",
       "sex      -0.055117 -0.049365  0.139157  0.084687 -0.026666  0.111729   \n",
       "cp        0.043581  0.306839 -0.401513 -0.174733  0.131633 -0.176206   \n",
       "trestbps -0.123794 -0.039264  0.061197  0.187434 -0.120445  0.104554   \n",
       "chol     -0.147410 -0.021772  0.067382  0.064880 -0.014248  0.074259   \n",
       "fbs      -0.104051 -0.008866  0.049261  0.010859 -0.061902  0.137156   \n",
       "restecg   1.000000  0.048411 -0.065606 -0.050114  0.086086 -0.078072   \n",
       "thalach   0.048411  1.000000 -0.380281 -0.349796  0.395308 -0.207888   \n",
       "exang    -0.065606 -0.380281  1.000000  0.310844 -0.267335  0.107849   \n",
       "oldpeak  -0.050114 -0.349796  0.310844  1.000000 -0.575189  0.221816   \n",
       "slope     0.086086  0.395308 -0.267335 -0.575189  1.000000 -0.073440   \n",
       "ca       -0.078072 -0.207888  0.107849  0.221816 -0.073440  1.000000   \n",
       "thal     -0.020504 -0.098068  0.197201  0.202672 -0.094090  0.149014   \n",
       "target    0.134468  0.422895 -0.438029 -0.438441  0.345512 -0.382085   \n",
       "\n",
       "              thal    target  \n",
       "age       0.072297 -0.229324  \n",
       "sex       0.198424 -0.279501  \n",
       "cp       -0.163341  0.434854  \n",
       "trestbps  0.059276 -0.138772  \n",
       "chol      0.100244 -0.099966  \n",
       "fbs      -0.042177 -0.041164  \n",
       "restecg  -0.020504  0.134468  \n",
       "thalach  -0.098068  0.422895  \n",
       "exang     0.197201 -0.438029  \n",
       "oldpeak   0.202672 -0.438441  \n",
       "slope    -0.094090  0.345512  \n",
       "ca        0.149014 -0.382085  \n",
       "thal      1.000000 -0.337838  \n",
       "target   -0.337838  1.000000  "
      ]
     },
     "execution_count": 10,
     "metadata": {},
     "output_type": "execute_result"
    }
   ],
   "source": [
    "df.corr()"
   ]
  },
  {
   "cell_type": "code",
   "execution_count": 11,
   "metadata": {
    "colab": {
     "base_uri": "https://localhost:8080/",
     "height": 613
    },
    "id": "ouZrkAXOEVO8",
    "outputId": "d2a4b7bc-9d08-4e24-b41d-0b4fa8549d3b"
   },
   "outputs": [
    {
     "data": {
      "text/plain": [
       "<Axes: >"
      ]
     },
     "execution_count": 11,
     "metadata": {},
     "output_type": "execute_result"
    },
    {
     "data": {
      "image/png": "[encoded data removed]",
      "text/plain": [
       "<Figure size 1500x1000 with 2 Axes>"
      ]
     },
     "metadata": {},
     "output_type": "display_data"
    }
   ],
   "source": [
    "cor_mat=df.corr()\n",
    "fig,ax=plt.subplots(figsize=(15,10))\n",
    "sns.heatmap(cor_mat,annot=True,linewidths=0.5,fmt=\".3f\")\n"
   ]
  },
  {
   "cell_type": "code",
   "execution_count": 12,
   "metadata": {
    "colab": {
     "base_uri": "https://localhost:8080/",
     "height": 206
    },
    "id": "EONgqqlicG3N",
    "outputId": "815cc84e-339b-4b2a-c321-26d1e4595f72"
   },
   "outputs": [
    {
     "data": {
      "text/html": [
       "<div>\n",
       "<style scoped>\n",
       "    .dataframe tbody tr th:only-of-type {\n",
       "        vertical-align: middle;\n",
       "    }\n",
       "\n",
       "    .dataframe tbody tr th {\n",
       "        vertical-align: top;\n",
       "    }\n",
       "\n",
       "    .dataframe thead th {\n",
       "        text-align: right;\n",
       "    }\n",
       "</style>\n",
       "<table border=\"1\" class=\"dataframe\">\n",
       "  <thead>\n",
       "    <tr style=\"text-align: right;\">\n",
       "      <th></th>\n",
       "      <th>age</th>\n",
       "      <th>sex</th>\n",
       "      <th>cp</th>\n",
       "      <th>trestbps</th>\n",
       "      <th>chol</th>\n",
       "      <th>fbs</th>\n",
       "      <th>restecg</th>\n",
       "      <th>thalach</th>\n",
       "      <th>exang</th>\n",
       "      <th>oldpeak</th>\n",
       "      <th>slope</th>\n",
       "      <th>ca</th>\n",
       "      <th>thal</th>\n",
       "      <th>target</th>\n",
       "    </tr>\n",
       "  </thead>\n",
       "  <tbody>\n",
       "    <tr>\n",
       "      <th>0</th>\n",
       "      <td>0.479167</td>\n",
       "      <td>1.0</td>\n",
       "      <td>0.0</td>\n",
       "      <td>0.292453</td>\n",
       "      <td>0.196347</td>\n",
       "      <td>0.0</td>\n",
       "      <td>0.5</td>\n",
       "      <td>0.740458</td>\n",
       "      <td>0.0</td>\n",
       "      <td>0.161290</td>\n",
       "      <td>1.0</td>\n",
       "      <td>0.50</td>\n",
       "      <td>1.000000</td>\n",
       "      <td>0</td>\n",
       "    </tr>\n",
       "    <tr>\n",
       "      <th>1</th>\n",
       "      <td>0.500000</td>\n",
       "      <td>1.0</td>\n",
       "      <td>0.0</td>\n",
       "      <td>0.433962</td>\n",
       "      <td>0.175799</td>\n",
       "      <td>1.0</td>\n",
       "      <td>0.0</td>\n",
       "      <td>0.641221</td>\n",
       "      <td>1.0</td>\n",
       "      <td>0.500000</td>\n",
       "      <td>0.0</td>\n",
       "      <td>0.00</td>\n",
       "      <td>1.000000</td>\n",
       "      <td>0</td>\n",
       "    </tr>\n",
       "    <tr>\n",
       "      <th>2</th>\n",
       "      <td>0.854167</td>\n",
       "      <td>1.0</td>\n",
       "      <td>0.0</td>\n",
       "      <td>0.481132</td>\n",
       "      <td>0.109589</td>\n",
       "      <td>0.0</td>\n",
       "      <td>0.5</td>\n",
       "      <td>0.412214</td>\n",
       "      <td>1.0</td>\n",
       "      <td>0.419355</td>\n",
       "      <td>0.0</td>\n",
       "      <td>0.00</td>\n",
       "      <td>1.000000</td>\n",
       "      <td>0</td>\n",
       "    </tr>\n",
       "    <tr>\n",
       "      <th>3</th>\n",
       "      <td>0.666667</td>\n",
       "      <td>1.0</td>\n",
       "      <td>0.0</td>\n",
       "      <td>0.509434</td>\n",
       "      <td>0.175799</td>\n",
       "      <td>0.0</td>\n",
       "      <td>0.5</td>\n",
       "      <td>0.687023</td>\n",
       "      <td>0.0</td>\n",
       "      <td>0.000000</td>\n",
       "      <td>1.0</td>\n",
       "      <td>0.25</td>\n",
       "      <td>1.000000</td>\n",
       "      <td>0</td>\n",
       "    </tr>\n",
       "    <tr>\n",
       "      <th>4</th>\n",
       "      <td>0.687500</td>\n",
       "      <td>0.0</td>\n",
       "      <td>0.0</td>\n",
       "      <td>0.415094</td>\n",
       "      <td>0.383562</td>\n",
       "      <td>1.0</td>\n",
       "      <td>0.5</td>\n",
       "      <td>0.267176</td>\n",
       "      <td>0.0</td>\n",
       "      <td>0.306452</td>\n",
       "      <td>0.5</td>\n",
       "      <td>0.75</td>\n",
       "      <td>0.666667</td>\n",
       "      <td>0</td>\n",
       "    </tr>\n",
       "  </tbody>\n",
       "</table>\n",
       "</div>"
      ],
      "text/plain": [
       "        age  sex   cp  trestbps      chol  fbs  restecg   thalach  exang  \\\n",
       "0  0.479167  1.0  0.0  0.292453  0.196347  0.0      0.5  0.740458    0.0   \n",
       "1  0.500000  1.0  0.0  0.433962  0.175799  1.0      0.0  0.641221    1.0   \n",
       "2  0.854167  1.0  0.0  0.481132  0.109589  0.0      0.5  0.412214    1.0   \n",
       "3  0.666667  1.0  0.0  0.509434  0.175799  0.0      0.5  0.687023    0.0   \n",
       "4  0.687500  0.0  0.0  0.415094  0.383562  1.0      0.5  0.267176    0.0   \n",
       "\n",
       "    oldpeak  slope    ca      thal  target  \n",
       "0  0.161290    1.0  0.50  1.000000       0  \n",
       "1  0.500000    0.0  0.00  1.000000       0  \n",
       "2  0.419355    0.0  0.00  1.000000       0  \n",
       "3  0.000000    1.0  0.25  1.000000       0  \n",
       "4  0.306452    0.5  0.75  0.666667       0  "
      ]
     },
     "execution_count": 12,
     "metadata": {},
     "output_type": "execute_result"
    }
   ],
   "source": [
    "from sklearn.preprocessing import MinMaxScaler\n",
    "scal=MinMaxScaler()\n",
    "feat=['age', \t'sex', \t'cp', 'trestbps', 'chol', \t'fbs', \t'restecg', \t'thalach' ,\t'exang', \t'oldpeak' ,\t'slope', \t'ca', 'thal']\n",
    "df[feat] = scal.fit_transform(df[feat])\n",
    "df.head()"
   ]
  },
  {
   "cell_type": "code",
   "execution_count": 13,
   "metadata": {
    "colab": {
     "base_uri": "https://localhost:8080/",
     "height": 206
    },
    "id": "tn-OqrYOEVPA",
    "outputId": "7cf5dc2f-ba9a-47e6-91b8-085954584151"
   },
   "outputs": [
    {
     "data": {
      "text/html": [
       "<div>\n",
       "<style scoped>\n",
       "    .dataframe tbody tr th:only-of-type {\n",
       "        vertical-align: middle;\n",
       "    }\n",
       "\n",
       "    .dataframe tbody tr th {\n",
       "        vertical-align: top;\n",
       "    }\n",
       "\n",
       "    .dataframe thead th {\n",
       "        text-align: right;\n",
       "    }\n",
       "</style>\n",
       "<table border=\"1\" class=\"dataframe\">\n",
       "  <thead>\n",
       "    <tr style=\"text-align: right;\">\n",
       "      <th></th>\n",
       "      <th>age</th>\n",
       "      <th>sex</th>\n",
       "      <th>cp</th>\n",
       "      <th>trestbps</th>\n",
       "      <th>chol</th>\n",
       "      <th>fbs</th>\n",
       "      <th>restecg</th>\n",
       "      <th>thalach</th>\n",
       "      <th>exang</th>\n",
       "      <th>oldpeak</th>\n",
       "      <th>slope</th>\n",
       "      <th>ca</th>\n",
       "      <th>thal</th>\n",
       "      <th>target</th>\n",
       "    </tr>\n",
       "  </thead>\n",
       "  <tbody>\n",
       "    <tr>\n",
       "      <th>0</th>\n",
       "      <td>0.479167</td>\n",
       "      <td>1.0</td>\n",
       "      <td>0.0</td>\n",
       "      <td>0.292453</td>\n",
       "      <td>0.196347</td>\n",
       "      <td>0.0</td>\n",
       "      <td>0.5</td>\n",
       "      <td>0.740458</td>\n",
       "      <td>0.0</td>\n",
       "      <td>0.161290</td>\n",
       "      <td>1.0</td>\n",
       "      <td>0.50</td>\n",
       "      <td>1.000000</td>\n",
       "      <td>0</td>\n",
       "    </tr>\n",
       "    <tr>\n",
       "      <th>1</th>\n",
       "      <td>0.500000</td>\n",
       "      <td>1.0</td>\n",
       "      <td>0.0</td>\n",
       "      <td>0.433962</td>\n",
       "      <td>0.175799</td>\n",
       "      <td>1.0</td>\n",
       "      <td>0.0</td>\n",
       "      <td>0.641221</td>\n",
       "      <td>1.0</td>\n",
       "      <td>0.500000</td>\n",
       "      <td>0.0</td>\n",
       "      <td>0.00</td>\n",
       "      <td>1.000000</td>\n",
       "      <td>0</td>\n",
       "    </tr>\n",
       "    <tr>\n",
       "      <th>2</th>\n",
       "      <td>0.854167</td>\n",
       "      <td>1.0</td>\n",
       "      <td>0.0</td>\n",
       "      <td>0.481132</td>\n",
       "      <td>0.109589</td>\n",
       "      <td>0.0</td>\n",
       "      <td>0.5</td>\n",
       "      <td>0.412214</td>\n",
       "      <td>1.0</td>\n",
       "      <td>0.419355</td>\n",
       "      <td>0.0</td>\n",
       "      <td>0.00</td>\n",
       "      <td>1.000000</td>\n",
       "      <td>0</td>\n",
       "    </tr>\n",
       "    <tr>\n",
       "      <th>3</th>\n",
       "      <td>0.666667</td>\n",
       "      <td>1.0</td>\n",
       "      <td>0.0</td>\n",
       "      <td>0.509434</td>\n",
       "      <td>0.175799</td>\n",
       "      <td>0.0</td>\n",
       "      <td>0.5</td>\n",
       "      <td>0.687023</td>\n",
       "      <td>0.0</td>\n",
       "      <td>0.000000</td>\n",
       "      <td>1.0</td>\n",
       "      <td>0.25</td>\n",
       "      <td>1.000000</td>\n",
       "      <td>0</td>\n",
       "    </tr>\n",
       "    <tr>\n",
       "      <th>4</th>\n",
       "      <td>0.687500</td>\n",
       "      <td>0.0</td>\n",
       "      <td>0.0</td>\n",
       "      <td>0.415094</td>\n",
       "      <td>0.383562</td>\n",
       "      <td>1.0</td>\n",
       "      <td>0.5</td>\n",
       "      <td>0.267176</td>\n",
       "      <td>0.0</td>\n",
       "      <td>0.306452</td>\n",
       "      <td>0.5</td>\n",
       "      <td>0.75</td>\n",
       "      <td>0.666667</td>\n",
       "      <td>0</td>\n",
       "    </tr>\n",
       "  </tbody>\n",
       "</table>\n",
       "</div>"
      ],
      "text/plain": [
       "        age  sex   cp  trestbps      chol  fbs  restecg   thalach  exang  \\\n",
       "0  0.479167  1.0  0.0  0.292453  0.196347  0.0      0.5  0.740458    0.0   \n",
       "1  0.500000  1.0  0.0  0.433962  0.175799  1.0      0.0  0.641221    1.0   \n",
       "2  0.854167  1.0  0.0  0.481132  0.109589  0.0      0.5  0.412214    1.0   \n",
       "3  0.666667  1.0  0.0  0.509434  0.175799  0.0      0.5  0.687023    0.0   \n",
       "4  0.687500  0.0  0.0  0.415094  0.383562  1.0      0.5  0.267176    0.0   \n",
       "\n",
       "    oldpeak  slope    ca      thal  target  \n",
       "0  0.161290    1.0  0.50  1.000000       0  \n",
       "1  0.500000    0.0  0.00  1.000000       0  \n",
       "2  0.419355    0.0  0.00  1.000000       0  \n",
       "3  0.000000    1.0  0.25  1.000000       0  \n",
       "4  0.306452    0.5  0.75  0.666667       0  "
      ]
     },
     "execution_count": 13,
     "metadata": {},
     "output_type": "execute_result"
    }
   ],
   "source": [
    "from sklearn.preprocessing import StandardScaler\n",
    "scaler = StandardScaler()\n",
    "features= ['age', 'trestbps', 'chol', 'thalach', 'oldpeak']\n",
    "#df[features] = scaler.fit_transform(df[features])\n",
    "df.head()"
   ]
  },
  {
   "cell_type": "markdown",
   "metadata": {
    "id": "nknt3bAhEVPB"
   },
   "source": [
    "## **Creating Features and Target variable**"
   ]
  },
  {
   "cell_type": "code",
   "execution_count": 14,
   "metadata": {
    "id": "xKXoGZskEVPC"
   },
   "outputs": [],
   "source": [
    "X=df.drop(\"target\",axis=1).values\n",
    "Y=df.target.values"
   ]
  },
  {
   "cell_type": "markdown",
   "metadata": {
    "id": "4c9nM-rNEVPD"
   },
   "source": [
    "## **Splitting the data into train and test sets**"
   ]
  },
  {
   "cell_type": "code",
   "execution_count": 15,
   "metadata": {
    "id": "gAc_iyAxEVPE"
   },
   "outputs": [],
   "source": [
    "from sklearn.model_selection import train_test_split\n",
    "X_train,X_test,Y_train,Y_test=train_test_split(X,Y,random_state=0,test_size=0.2)"
   ]
  },
  {
   "cell_type": "markdown",
   "metadata": {
    "id": "irBWjGLFhtWN"
   },
   "source": [
    "## **Create a function for evaluating metrics**"
   ]
  },
  {
   "cell_type": "code",
   "execution_count": 16,
   "metadata": {
    "id": "LMU-ErWyEVPL"
   },
   "outputs": [],
   "source": [
    "from sklearn.metrics import accuracy_score,recall_score,f1_score,precision_score,roc_auc_score,confusion_matrix\n",
    "\n",
    "def evaluation(Y_test,Y_pred):\n",
    "  acc=accuracy_score(Y_test,Y_pred)\n",
    "  rcl=recall_score(Y_test,Y_pred)\n",
    "  f1=f1_score(Y_test,Y_pred)\n",
    " \n",
    "\n",
    "  metric_dict={'accuracy': round(acc,3),\n",
    "               'recall': round(rcl,3),\n",
    "               'F1 score': round(f1,3),\n",
    "               \n",
    "              }\n",
    "\n",
    "  return print(metric_dict)\n",
    "\n",
    "#evaluation(Y_test,SVC_Y_pred)"
   ]
  },
  {
   "cell_type": "markdown",
   "metadata": {
    "id": "lnjzlpINEVPF"
   },
   "source": [
    "## **Fitting and Comparing different Models**"
   ]
  },
  {
   "cell_type": "code",
   "execution_count": 17,
   "metadata": {
    "colab": {
     "base_uri": "https://localhost:8080/"
    },
    "id": "rSIVXUgCEVPH",
    "outputId": "8ed50b11-8d4d-45eb-c497-1f3062180420"
   },
   "outputs": [
    {
     "name": "stdout",
     "output_type": "stream",
     "text": [
      "{'accuracy': 0.859, 'recall': 0.832, 'F1 score': 0.86}\n"
     ]
    }
   ],
   "source": [
    "np.random.seed(42)\n",
    "from sklearn.neighbors import KNeighborsClassifier\n",
    "Knn_clf=  KNeighborsClassifier()\n",
    "Knn_clf.fit(X_train,Y_train)\n",
    "Knn_Y_pred=Knn_clf.predict(X_test)\n",
    "Knn_score=Knn_clf.score(X_test,Y_test)\n",
    "#print(Knn_score)\n",
    "evaluation(Y_test,Knn_Y_pred)"
   ]
  },
  {
   "cell_type": "code",
   "execution_count": 18,
   "metadata": {
    "colab": {
     "base_uri": "https://localhost:8080/"
    },
    "id": "-6Dzu3WwEVPH",
    "outputId": "6f9e8d30-1dce-46ed-fa79-f7fbbf5a23d3"
   },
   "outputs": [
    {
     "name": "stdout",
     "output_type": "stream",
     "text": [
      "{'accuracy': 0.859, 'recall': 0.925, 'F1 score': 0.872}\n"
     ]
    }
   ],
   "source": [
    "np.random.seed(42)\n",
    "from sklearn.linear_model import LogisticRegression\n",
    "LR_clf=LogisticRegression()\n",
    "LR_clf.fit(X_train,Y_train)\n",
    "LR_Y_pred=LR_clf.predict(X_test)\n",
    "LR_score=LR_clf.score(X_test,Y_test)\n",
    "#print(LR_score)\n",
    "evaluation(Y_test,LR_Y_pred)"
   ]
  },
  {
   "cell_type": "code",
   "execution_count": 19,
   "metadata": {
    "colab": {
     "base_uri": "https://localhost:8080/"
    },
    "id": "1EREPoweEVPJ",
    "outputId": "0184ef62-4aa7-4d7a-8d4b-ba4521533f59"
   },
   "outputs": [
    {
     "name": "stdout",
     "output_type": "stream",
     "text": [
      "{'accuracy': 1.0, 'recall': 1.0, 'F1 score': 1.0}\n"
     ]
    }
   ],
   "source": [
    "np.random.seed(42)\n",
    "from sklearn.ensemble import RandomForestClassifier\n",
    "RF_clf=RandomForestClassifier(n_estimators=450)\n",
    "RF_clf.fit(X_train,Y_train)\n",
    "RF_score=RF_clf.score(X_test,Y_test)\n",
    "RF_Y_pred=RF_clf.predict(X_test)\n",
    "#print(RF_score)\n",
    "evaluation(Y_test,RF_Y_pred)"
   ]
  },
  {
   "cell_type": "code",
   "execution_count": 20,
   "metadata": {
    "colab": {
     "base_uri": "https://localhost:8080/"
    },
    "id": "0OjbWI54EVPK",
    "outputId": "9dad7131-8138-400d-bf9c-56c3b2c68504"
   },
   "outputs": [
    {
     "name": "stdout",
     "output_type": "stream",
     "text": [
      "{'accuracy': 0.902, 'recall': 0.907, 'F1 score': 0.907}\n"
     ]
    }
   ],
   "source": [
    "np.random.seed(42)\n",
    "from sklearn.svm import SVC\n",
    "SVC_clf=SVC()\n",
    "SVC_clf.fit(X_train,Y_train)\n",
    "SVC_score=SVC_clf.score(X_test,Y_test)\n",
    "SVC_Y_pred=SVC_clf.predict(X_test)\n",
    "#print(SVC_score)\n",
    "evaluation(Y_test,SVC_Y_pred)"
   ]
  },
  {
   "cell_type": "code",
   "execution_count": 21,
   "metadata": {
    "colab": {
     "base_uri": "https://localhost:8080/"
    },
    "id": "silk2CWR98rA",
    "outputId": "f2b40f85-2428-481a-db8a-a0d72fad4e88"
   },
   "outputs": [
    {
     "name": "stdout",
     "output_type": "stream",
     "text": [
      "{'accuracy': 1.0, 'recall': 1.0, 'F1 score': 1.0}\n"
     ]
    }
   ],
   "source": [
    "from xgboost import XGBClassifier\n",
    "XGB_clf=XGBClassifier()\n",
    "XGB_clf.fit(X_train,Y_train)\n",
    "XGB_score=XGB_clf.score(X_test,Y_test)\n",
    "XGB_Y_pred=XGB_clf.predict(X_test)\n",
    "#print(SVC_score)\n",
    "evaluation(Y_test,XGB_Y_pred)"
   ]
  },
  {
   "cell_type": "code",
   "execution_count": 22,
   "metadata": {
    "colab": {
     "base_uri": "https://localhost:8080/",
     "height": 206
    },
    "id": "T9ROf6Ce6tm9",
    "outputId": "6965dd5f-b669-4014-a89a-8234067661c0"
   },
   "outputs": [
    {
     "data": {
      "text/html": [
       "<div>\n",
       "<style scoped>\n",
       "    .dataframe tbody tr th:only-of-type {\n",
       "        vertical-align: middle;\n",
       "    }\n",
       "\n",
       "    .dataframe tbody tr th {\n",
       "        vertical-align: top;\n",
       "    }\n",
       "\n",
       "    .dataframe thead th {\n",
       "        text-align: right;\n",
       "    }\n",
       "</style>\n",
       "<table border=\"1\" class=\"dataframe\">\n",
       "  <thead>\n",
       "    <tr style=\"text-align: right;\">\n",
       "      <th></th>\n",
       "      <th>Model</th>\n",
       "      <th>Accuracy</th>\n",
       "    </tr>\n",
       "  </thead>\n",
       "  <tbody>\n",
       "    <tr>\n",
       "      <th>0</th>\n",
       "      <td>Logistic Regression</td>\n",
       "      <td>85.853659</td>\n",
       "    </tr>\n",
       "    <tr>\n",
       "      <th>1</th>\n",
       "      <td>Random Forest</td>\n",
       "      <td>100.000000</td>\n",
       "    </tr>\n",
       "    <tr>\n",
       "      <th>2</th>\n",
       "      <td>K-Nearest Neighbour</td>\n",
       "      <td>85.853659</td>\n",
       "    </tr>\n",
       "    <tr>\n",
       "      <th>3</th>\n",
       "      <td>Support Vector Machine</td>\n",
       "      <td>90.243902</td>\n",
       "    </tr>\n",
       "    <tr>\n",
       "      <th>4</th>\n",
       "      <td>XGBoost</td>\n",
       "      <td>100.000000</td>\n",
       "    </tr>\n",
       "  </tbody>\n",
       "</table>\n",
       "</div>"
      ],
      "text/plain": [
       "                    Model    Accuracy\n",
       "0     Logistic Regression   85.853659\n",
       "1           Random Forest  100.000000\n",
       "2     K-Nearest Neighbour   85.853659\n",
       "3  Support Vector Machine   90.243902\n",
       "4                 XGBoost  100.000000"
      ]
     },
     "execution_count": 22,
     "metadata": {},
     "output_type": "execute_result"
    }
   ],
   "source": [
    "model_comp = pd.DataFrame({'Model': ['Logistic Regression','Random Forest',\n",
    "                    'K-Nearest Neighbour','Support Vector Machine',\"XGBoost\"], 'Accuracy': [LR_score*100,\n",
    "                    RF_score*100,Knn_score*100,SVC_score*100,XGB_score*100]})\n",
    "model_comp"
   ]
  },
  {
   "cell_type": "markdown",
   "metadata": {
    "id": "d5jNmhzz7ASq"
   },
   "source": [
    "## **Tuning KNN**"
   ]
  },
  {
   "cell_type": "code",
   "execution_count": 23,
   "metadata": {
    "colab": {
     "base_uri": "https://localhost:8080/"
    },
    "id": "Ldaw88jk7dgL",
    "outputId": "db7c07d0-f4c5-4ef2-b26a-2db0f6b4ad94"
   },
   "outputs": [
    {
     "name": "stdout",
     "output_type": "stream",
     "text": [
      "Accuracy with 1 no. of neighbors: 1.0%\n",
      "Accuracy with 2 no. of neighbors: 0.9804878048780488%\n",
      "Accuracy with 3 no. of neighbors: 0.9804878048780488%\n",
      "Accuracy with 4 no. of neighbors: 0.9121951219512195%\n",
      "Accuracy with 5 no. of neighbors: 0.8585365853658536%\n",
      "Accuracy with 6 no. of neighbors: 0.8634146341463415%\n",
      "Accuracy with 7 no. of neighbors: 0.8926829268292683%\n",
      "Accuracy with 8 no. of neighbors: 0.9024390243902439%\n",
      "Accuracy with 9 no. of neighbors: 0.9024390243902439%\n",
      "Accuracy with 10 no. of neighbors: 0.8926829268292683%\n",
      "Accuracy with 11 no. of neighbors: 0.8829268292682927%\n",
      "Accuracy with 12 no. of neighbors: 0.8731707317073171%\n",
      "Accuracy with 13 no. of neighbors: 0.8731707317073171%\n",
      "Accuracy with 14 no. of neighbors: 0.8682926829268293%\n",
      "Accuracy with 15 no. of neighbors: 0.8731707317073171%\n",
      "Accuracy with 16 no. of neighbors: 0.8731707317073171%\n",
      "Accuracy with 17 no. of neighbors: 0.8780487804878049%\n",
      "Accuracy with 18 no. of neighbors: 0.8682926829268293%\n",
      "Accuracy with 19 no. of neighbors: 0.8634146341463415%\n",
      "Accuracy with 20 no. of neighbors: 0.8585365853658536%\n"
     ]
    }
   ],
   "source": [
    "neighbors = range(1, 21) # 1 to 20\n",
    "\n",
    "# Setup algorithm\n",
    "knn = KNeighborsClassifier()\n",
    "\n",
    "# Loop through different neighbors values\n",
    "for i in neighbors:\n",
    "    knn.set_params(n_neighbors = i) # set neighbors value\n",
    "    \n",
    "    # Fit the algorithm\n",
    "    print(f\"Accuracy with {i} no. of neighbors: {knn.fit(X_train, Y_train).score(X_test,Y_test)}%\")"
   ]
  },
  {
   "cell_type": "code",
   "execution_count": 24,
   "metadata": {
    "colab": {
     "base_uri": "https://localhost:8080/"
    },
    "id": "8wfQZrBP8Ixa",
    "outputId": "11e85774-fafe-4bb5-98dc-5b026064982c"
   },
   "outputs": [
    {
     "name": "stdout",
     "output_type": "stream",
     "text": [
      "{'accuracy': 0.893, 'recall': 0.944, 'F1 score': 0.902}\n"
     ]
    }
   ],
   "source": [
    "np.random.seed(42)\n",
    "from sklearn.neighbors import KNeighborsClassifier\n",
    "Knn_clf=  KNeighborsClassifier(n_neighbors=7)\n",
    "Knn_clf.fit(X_train,Y_train)\n",
    "Knn_Y_pred=Knn_clf.predict(X_test)\n",
    "Knn_score=Knn_clf.score(X_test,Y_test)\n",
    "evaluation(Y_test,Knn_Y_pred)"
   ]
  },
  {
   "cell_type": "markdown",
   "metadata": {
    "id": "wlEv_pnb81aD"
   },
   "source": [
    "# **Tuning Random Forest**"
   ]
  },
  {
   "cell_type": "code",
   "execution_count": 25,
   "metadata": {
    "colab": {
     "base_uri": "https://localhost:8080/"
    },
    "id": "FeenpG8pmSZV",
    "outputId": "78a4eb4a-fffd-45fb-c313-4cc7b70c214a"
   },
   "outputs": [
    {
     "name": "stdout",
     "output_type": "stream",
     "text": [
      "With 10 estimators:\n",
      "Accuracy: 83.902439%\n",
      "With 20 estimators:\n",
      "Accuracy: 87.317073%\n",
      "With 30 estimators:\n",
      "Accuracy: 90.731707%\n",
      "With 40 estimators:\n",
      "Accuracy: 93.170732%\n",
      "With 50 estimators:\n",
      "Accuracy: 95.121951%\n",
      "With 60 estimators:\n",
      "Accuracy: 99.512195%\n",
      "With 70 estimators:\n",
      "Accuracy: 99.512195%\n",
      "With 80 estimators:\n",
      "Accuracy: 99.512195%\n",
      "With 90 estimators:\n",
      "Accuracy: 100.000000%\n",
      "With 100 estimators:\n",
      "Accuracy: 100.000000%\n",
      "With 110 estimators:\n",
      "Accuracy: 100.000000%\n",
      "With 120 estimators:\n",
      "Accuracy: 100.000000%\n",
      "With 130 estimators:\n",
      "Accuracy: 100.000000%\n",
      "With 140 estimators:\n",
      "Accuracy: 100.000000%\n",
      "With 150 estimators:\n",
      "Accuracy: 100.000000%\n",
      "With 160 estimators:\n",
      "Accuracy: 100.000000%\n",
      "With 170 estimators:\n",
      "Accuracy: 100.000000%\n",
      "With 180 estimators:\n",
      "Accuracy: 100.000000%\n",
      "With 190 estimators:\n",
      "Accuracy: 100.000000%\n",
      "With 200 estimators:\n",
      "Accuracy: 100.000000%\n",
      "With 210 estimators:\n",
      "Accuracy: 100.000000%\n",
      "With 220 estimators:\n",
      "Accuracy: 100.000000%\n",
      "With 230 estimators:\n",
      "Accuracy: 100.000000%\n",
      "With 240 estimators:\n",
      "Accuracy: 100.000000%\n",
      "With 250 estimators:\n",
      "Accuracy: 100.000000%\n",
      "With 260 estimators:\n",
      "Accuracy: 100.000000%\n",
      "With 270 estimators:\n",
      "Accuracy: 100.000000%\n",
      "With 280 estimators:\n",
      "Accuracy: 100.000000%\n",
      "With 290 estimators:\n",
      "Accuracy: 100.000000%\n",
      "With 300 estimators:\n",
      "Accuracy: 100.000000%\n",
      "With 310 estimators:\n",
      "Accuracy: 100.000000%\n",
      "With 320 estimators:\n",
      "Accuracy: 100.000000%\n",
      "With 330 estimators:\n",
      "Accuracy: 100.000000%\n",
      "With 340 estimators:\n",
      "Accuracy: 100.000000%\n",
      "With 350 estimators:\n",
      "Accuracy: 100.000000%\n",
      "With 360 estimators:\n",
      "Accuracy: 100.000000%\n",
      "With 370 estimators:\n",
      "Accuracy: 100.000000%\n",
      "With 380 estimators:\n",
      "Accuracy: 100.000000%\n",
      "With 390 estimators:\n",
      "Accuracy: 100.000000%\n"
     ]
    }
   ],
   "source": [
    "from sklearn.ensemble import RandomForestClassifier\n",
    "np.random.seed(42)\n",
    "for i in range(1,40,1):\n",
    "  print(f\"With {i*10} estimators:\")\n",
    "  clf2=RandomForestClassifier(n_estimators=i*10,max_depth=i,random_state=i).fit(X_train,Y_train)\n",
    "  print(f\"Accuracy: {clf2.score(X_test,Y_test)*100:2f}%\")"
   ]
  },
  {
   "cell_type": "code",
   "execution_count": 26,
   "metadata": {
    "colab": {
     "base_uri": "https://localhost:8080/"
    },
    "id": "9L8nO24AroIp",
    "outputId": "5c73c63d-9acc-42c1-b3b0-a75631b4b070"
   },
   "outputs": [
    {
     "name": "stdout",
     "output_type": "stream",
     "text": [
      "{'accuracy': 0.907, 'recall': 0.925, 'F1 score': 0.912}\n"
     ]
    }
   ],
   "source": [
    "from sklearn.ensemble import RandomForestClassifier\n",
    "RF_clf2=RandomForestClassifier(n_estimators=30,max_depth=3,random_state=3)\n",
    "RF_clf2.fit(X_train,Y_train)\n",
    "RF2_acc_score=RF_clf2.score(X_test,Y_test)\n",
    "RF2_Y_pred=RF_clf2.predict(X_test)\n",
    "#print(RF2_acc_score)\n",
    "evaluation(Y_test,RF2_Y_pred)"
   ]
  },
  {
   "cell_type": "markdown",
   "metadata": {
    "id": "6cd8kEjXVMkE"
   },
   "source": [
    "# **Tuning XGBoost manually**"
   ]
  },
  {
   "cell_type": "code",
   "execution_count": 27,
   "metadata": {
    "colab": {
     "base_uri": "https://localhost:8080/"
    },
    "id": "zX_ijH9gUhCX",
    "outputId": "28d7cbac-49d6-4f84-a725-6c540c37586a"
   },
   "outputs": [
    {
     "name": "stdout",
     "output_type": "stream",
     "text": [
      "{'accuracy': 1.0, 'recall': 1.0, 'F1 score': 1.0}\n"
     ]
    }
   ],
   "source": [
    "xgb = XGBClassifier(learning_rate=0.01, n_estimators=25, max_depth=15,gamma=0.6, subsample=0.52,colsample_bytree=0.6,seed=27, \n",
    "                    reg_lambda=2, booster='dart', colsample_bylevel=0.6, colsample_bynode=0.5)\n",
    "\n",
    "xgb.fit(X_train,Y_train)\n",
    "xgb_score=XGB_clf.score(X_test,Y_test)\n",
    "xgb_Y_pred=XGB_clf.predict(X_test)\n",
    "#print(SVC_score)\n",
    "evaluation(Y_test,xgb_Y_pred)"
   ]
  },
  {
   "cell_type": "markdown",
   "metadata": {
    "id": "vj6t45SCCV8-"
   },
   "source": [
    "# **Hyper parameter tuning  SVC using GridSearchCV**"
   ]
  },
  {
   "cell_type": "code",
   "execution_count": 28,
   "metadata": {
    "colab": {
     "base_uri": "https://localhost:8080/"
    },
    "id": "8A3e-lNaTnJR",
    "outputId": "466eee69-5271-4d37-c9c2-ca68ad420198"
   },
   "outputs": [
    {
     "name": "stdout",
     "output_type": "stream",
     "text": [
      "Fitting 5 folds for each of 60 candidates, totalling 300 fits\n",
      "[CV 1/5] END ........C=0.1, gamma=1, kernel=rbf;, score=0.860 total time=   0.0s\n",
      "[CV 2/5] END ........C=0.1, gamma=1, kernel=rbf;, score=0.866 total time=   0.0s\n",
      "[CV 3/5] END ........C=0.1, gamma=1, kernel=rbf;, score=0.787 total time=   0.0s\n",
      "[CV 4/5] END ........C=0.1, gamma=1, kernel=rbf;, score=0.866 total time=   0.0s\n",
      "[CV 5/5] END ........C=0.1, gamma=1, kernel=rbf;, score=0.805 total time=   0.0s\n",
      "[CV 1/5] END .....C=0.1, gamma=1, kernel=linear;, score=0.841 total time=   0.0s\n",
      "[CV 2/5] END .....C=0.1, gamma=1, kernel=linear;, score=0.829 total time=   0.0s\n",
      "[CV 3/5] END .....C=0.1, gamma=1, kernel=linear;, score=0.756 total time=   0.0s\n",
      "[CV 4/5] END .....C=0.1, gamma=1, kernel=linear;, score=0.854 total time=   0.0s\n",
      "[CV 5/5] END .....C=0.1, gamma=1, kernel=linear;, score=0.774 total time=   0.0s\n",
      "[CV 1/5] END ......C=0.1, gamma=0.1, kernel=rbf;, score=0.799 total time=   0.0s\n",
      "[CV 2/5] END ......C=0.1, gamma=0.1, kernel=rbf;, score=0.768 total time=   0.0s\n",
      "[CV 3/5] END ......C=0.1, gamma=0.1, kernel=rbf;, score=0.756 total time=   0.0s\n",
      "[CV 4/5] END ......C=0.1, gamma=0.1, kernel=rbf;, score=0.811 total time=   0.0s\n",
      "[CV 5/5] END ......C=0.1, gamma=0.1, kernel=rbf;, score=0.774 total time=   0.0s\n",
      "[CV 1/5] END ...C=0.1, gamma=0.1, kernel=linear;, score=0.841 total time=   0.0s\n",
      "[CV 2/5] END ...C=0.1, gamma=0.1, kernel=linear;, score=0.829 total time=   0.0s\n",
      "[CV 3/5] END ...C=0.1, gamma=0.1, kernel=linear;, score=0.756 total time=   0.0s\n",
      "[CV 4/5] END ...C=0.1, gamma=0.1, kernel=linear;, score=0.854 total time=   0.0s\n",
      "[CV 5/5] END ...C=0.1, gamma=0.1, kernel=linear;, score=0.774 total time=   0.0s\n",
      "[CV 1/5] END .....C=0.1, gamma=0.01, kernel=rbf;, score=0.512 total time=   0.0s\n",
      "[CV 2/5] END .....C=0.1, gamma=0.01, kernel=rbf;, score=0.512 total time=   0.0s\n",
      "[CV 3/5] END .....C=0.1, gamma=0.01, kernel=rbf;, score=0.512 total time=   0.0s\n",
      "[CV 4/5] END .....C=0.1, gamma=0.01, kernel=rbf;, score=0.512 total time=   0.0s\n",
      "[CV 5/5] END .....C=0.1, gamma=0.01, kernel=rbf;, score=0.506 total time=   0.0s\n",
      "[CV 1/5] END ..C=0.1, gamma=0.01, kernel=linear;, score=0.841 total time=   0.0s\n",
      "[CV 2/5] END ..C=0.1, gamma=0.01, kernel=linear;, score=0.829 total time=   0.0s\n",
      "[CV 3/5] END ..C=0.1, gamma=0.01, kernel=linear;, score=0.756 total time=   0.0s\n",
      "[CV 4/5] END ..C=0.1, gamma=0.01, kernel=linear;, score=0.854 total time=   0.0s\n",
      "[CV 5/5] END ..C=0.1, gamma=0.01, kernel=linear;, score=0.774 total time=   0.0s\n",
      "[CV 1/5] END ....C=0.1, gamma=0.001, kernel=rbf;, score=0.512 total time=   0.0s\n",
      "[CV 2/5] END ....C=0.1, gamma=0.001, kernel=rbf;, score=0.512 total time=   0.0s\n",
      "[CV 3/5] END ....C=0.1, gamma=0.001, kernel=rbf;, score=0.512 total time=   0.0s\n",
      "[CV 4/5] END ....C=0.1, gamma=0.001, kernel=rbf;, score=0.512 total time=   0.0s\n",
      "[CV 5/5] END ....C=0.1, gamma=0.001, kernel=rbf;, score=0.506 total time=   0.0s\n",
      "[CV 1/5] END .C=0.1, gamma=0.001, kernel=linear;, score=0.841 total time=   0.0s\n",
      "[CV 2/5] END .C=0.1, gamma=0.001, kernel=linear;, score=0.829 total time=   0.0s\n",
      "[CV 3/5] END .C=0.1, gamma=0.001, kernel=linear;, score=0.756 total time=   0.0s\n",
      "[CV 4/5] END .C=0.1, gamma=0.001, kernel=linear;, score=0.854 total time=   0.0s\n",
      "[CV 5/5] END .C=0.1, gamma=0.001, kernel=linear;, score=0.774 total time=   0.0s\n",
      "[CV 1/5] END ...C=0.1, gamma=0.0001, kernel=rbf;, score=0.512 total time=   0.0s\n",
      "[CV 2/5] END ...C=0.1, gamma=0.0001, kernel=rbf;, score=0.512 total time=   0.0s\n",
      "[CV 3/5] END ...C=0.1, gamma=0.0001, kernel=rbf;, score=0.512 total time=   0.0s\n",
      "[CV 4/5] END ...C=0.1, gamma=0.0001, kernel=rbf;, score=0.512 total time=   0.0s\n",
      "[CV 5/5] END ...C=0.1, gamma=0.0001, kernel=rbf;, score=0.506 total time=   0.0s\n",
      "[CV 1/5] END C=0.1, gamma=0.0001, kernel=linear;, score=0.841 total time=   0.0s\n",
      "[CV 2/5] END C=0.1, gamma=0.0001, kernel=linear;, score=0.829 total time=   0.0s\n",
      "[CV 3/5] END C=0.1, gamma=0.0001, kernel=linear;, score=0.756 total time=   0.0s\n",
      "[CV 4/5] END C=0.1, gamma=0.0001, kernel=linear;, score=0.854 total time=   0.0s\n",
      "[CV 5/5] END C=0.1, gamma=0.0001, kernel=linear;, score=0.774 total time=   0.0s\n",
      "[CV 1/5] END ..........C=1, gamma=1, kernel=rbf;, score=0.921 total time=   0.0s\n",
      "[CV 2/5] END ..........C=1, gamma=1, kernel=rbf;, score=0.890 total time=   0.0s\n",
      "[CV 3/5] END ..........C=1, gamma=1, kernel=rbf;, score=0.841 total time=   0.0s\n",
      "[CV 4/5] END ..........C=1, gamma=1, kernel=rbf;, score=0.896 total time=   0.0s\n",
      "[CV 5/5] END ..........C=1, gamma=1, kernel=rbf;, score=0.915 total time=   0.0s\n",
      "[CV 1/5] END .......C=1, gamma=1, kernel=linear;, score=0.860 total time=   0.0s\n",
      "[CV 2/5] END .......C=1, gamma=1, kernel=linear;, score=0.841 total time=   0.0s\n",
      "[CV 3/5] END .......C=1, gamma=1, kernel=linear;, score=0.787 total time=   0.0s\n",
      "[CV 4/5] END .......C=1, gamma=1, kernel=linear;, score=0.866 total time=   0.0s\n",
      "[CV 5/5] END .......C=1, gamma=1, kernel=linear;, score=0.811 total time=   0.0s\n",
      "[CV 1/5] END ........C=1, gamma=0.1, kernel=rbf;, score=0.848 total time=   0.0s\n",
      "[CV 2/5] END ........C=1, gamma=0.1, kernel=rbf;, score=0.841 total time=   0.0s\n",
      "[CV 3/5] END ........C=1, gamma=0.1, kernel=rbf;, score=0.768 total time=   0.0s\n",
      "[CV 4/5] END ........C=1, gamma=0.1, kernel=rbf;, score=0.860 total time=   0.0s\n",
      "[CV 5/5] END ........C=1, gamma=0.1, kernel=rbf;, score=0.787 total time=   0.0s\n",
      "[CV 1/5] END .....C=1, gamma=0.1, kernel=linear;, score=0.860 total time=   0.0s\n",
      "[CV 2/5] END .....C=1, gamma=0.1, kernel=linear;, score=0.841 total time=   0.0s\n",
      "[CV 3/5] END .....C=1, gamma=0.1, kernel=linear;, score=0.787 total time=   0.0s\n",
      "[CV 4/5] END .....C=1, gamma=0.1, kernel=linear;, score=0.866 total time=   0.0s\n",
      "[CV 5/5] END .....C=1, gamma=0.1, kernel=linear;, score=0.811 total time=   0.0s\n",
      "[CV 1/5] END .......C=1, gamma=0.01, kernel=rbf;, score=0.799 total time=   0.0s\n",
      "[CV 2/5] END .......C=1, gamma=0.01, kernel=rbf;, score=0.787 total time=   0.0s\n",
      "[CV 3/5] END .......C=1, gamma=0.01, kernel=rbf;, score=0.756 total time=   0.0s\n",
      "[CV 4/5] END .......C=1, gamma=0.01, kernel=rbf;, score=0.811 total time=   0.0s\n",
      "[CV 5/5] END .......C=1, gamma=0.01, kernel=rbf;, score=0.768 total time=   0.0s\n",
      "[CV 1/5] END ....C=1, gamma=0.01, kernel=linear;, score=0.860 total time=   0.0s\n",
      "[CV 2/5] END ....C=1, gamma=0.01, kernel=linear;, score=0.841 total time=   0.0s\n",
      "[CV 3/5] END ....C=1, gamma=0.01, kernel=linear;, score=0.787 total time=   0.0s\n",
      "[CV 4/5] END ....C=1, gamma=0.01, kernel=linear;, score=0.866 total time=   0.0s\n",
      "[CV 5/5] END ....C=1, gamma=0.01, kernel=linear;, score=0.811 total time=   0.0s\n",
      "[CV 1/5] END ......C=1, gamma=0.001, kernel=rbf;, score=0.512 total time=   0.0s\n",
      "[CV 2/5] END ......C=1, gamma=0.001, kernel=rbf;, score=0.512 total time=   0.0s\n",
      "[CV 3/5] END ......C=1, gamma=0.001, kernel=rbf;, score=0.512 total time=   0.0s\n",
      "[CV 4/5] END ......C=1, gamma=0.001, kernel=rbf;, score=0.512 total time=   0.0s\n",
      "[CV 5/5] END ......C=1, gamma=0.001, kernel=rbf;, score=0.506 total time=   0.0s\n",
      "[CV 1/5] END ...C=1, gamma=0.001, kernel=linear;, score=0.860 total time=   0.0s\n",
      "[CV 2/5] END ...C=1, gamma=0.001, kernel=linear;, score=0.841 total time=   0.0s\n",
      "[CV 3/5] END ...C=1, gamma=0.001, kernel=linear;, score=0.787 total time=   0.0s\n",
      "[CV 4/5] END ...C=1, gamma=0.001, kernel=linear;, score=0.866 total time=   0.0s\n",
      "[CV 5/5] END ...C=1, gamma=0.001, kernel=linear;, score=0.811 total time=   0.0s\n",
      "[CV 1/5] END .....C=1, gamma=0.0001, kernel=rbf;, score=0.512 total time=   0.0s\n",
      "[CV 2/5] END .....C=1, gamma=0.0001, kernel=rbf;, score=0.512 total time=   0.0s\n",
      "[CV 3/5] END .....C=1, gamma=0.0001, kernel=rbf;, score=0.512 total time=   0.0s\n",
      "[CV 4/5] END .....C=1, gamma=0.0001, kernel=rbf;, score=0.512 total time=   0.0s\n",
      "[CV 5/5] END .....C=1, gamma=0.0001, kernel=rbf;, score=0.506 total time=   0.0s\n",
      "[CV 1/5] END ..C=1, gamma=0.0001, kernel=linear;, score=0.860 total time=   0.0s\n",
      "[CV 2/5] END ..C=1, gamma=0.0001, kernel=linear;, score=0.841 total time=   0.0s\n",
      "[CV 3/5] END ..C=1, gamma=0.0001, kernel=linear;, score=0.787 total time=   0.0s\n",
      "[CV 4/5] END ..C=1, gamma=0.0001, kernel=linear;, score=0.866 total time=   0.0s\n",
      "[CV 5/5] END ..C=1, gamma=0.0001, kernel=linear;, score=0.811 total time=   0.0s\n",
      "[CV 1/5] END ..........C=2, gamma=1, kernel=rbf;, score=0.939 total time=   0.0s\n",
      "[CV 2/5] END ..........C=2, gamma=1, kernel=rbf;, score=0.921 total time=   0.0s\n",
      "[CV 3/5] END ..........C=2, gamma=1, kernel=rbf;, score=0.866 total time=   0.0s\n",
      "[CV 4/5] END ..........C=2, gamma=1, kernel=rbf;, score=0.945 total time=   0.0s\n",
      "[CV 5/5] END ..........C=2, gamma=1, kernel=rbf;, score=0.939 total time=   0.0s\n"
     ]
    },
    {
     "name": "stdout",
     "output_type": "stream",
     "text": [
      "[CV 1/5] END .......C=2, gamma=1, kernel=linear;, score=0.860 total time=   0.0s\n",
      "[CV 2/5] END .......C=2, gamma=1, kernel=linear;, score=0.835 total time=   0.0s\n",
      "[CV 3/5] END .......C=2, gamma=1, kernel=linear;, score=0.780 total time=   0.0s\n",
      "[CV 4/5] END .......C=2, gamma=1, kernel=linear;, score=0.872 total time=   0.0s\n",
      "[CV 5/5] END .......C=2, gamma=1, kernel=linear;, score=0.811 total time=   0.0s\n",
      "[CV 1/5] END ........C=2, gamma=0.1, kernel=rbf;, score=0.866 total time=   0.0s\n",
      "[CV 2/5] END ........C=2, gamma=0.1, kernel=rbf;, score=0.841 total time=   0.0s\n",
      "[CV 3/5] END ........C=2, gamma=0.1, kernel=rbf;, score=0.787 total time=   0.0s\n",
      "[CV 4/5] END ........C=2, gamma=0.1, kernel=rbf;, score=0.872 total time=   0.0s\n",
      "[CV 5/5] END ........C=2, gamma=0.1, kernel=rbf;, score=0.793 total time=   0.0s\n",
      "[CV 1/5] END .....C=2, gamma=0.1, kernel=linear;, score=0.860 total time=   0.0s\n",
      "[CV 2/5] END .....C=2, gamma=0.1, kernel=linear;, score=0.835 total time=   0.0s\n",
      "[CV 3/5] END .....C=2, gamma=0.1, kernel=linear;, score=0.780 total time=   0.0s\n",
      "[CV 4/5] END .....C=2, gamma=0.1, kernel=linear;, score=0.872 total time=   0.0s\n",
      "[CV 5/5] END .....C=2, gamma=0.1, kernel=linear;, score=0.811 total time=   0.0s\n",
      "[CV 1/5] END .......C=2, gamma=0.01, kernel=rbf;, score=0.823 total time=   0.0s\n",
      "[CV 2/5] END .......C=2, gamma=0.01, kernel=rbf;, score=0.811 total time=   0.0s\n",
      "[CV 3/5] END .......C=2, gamma=0.01, kernel=rbf;, score=0.768 total time=   0.0s\n",
      "[CV 4/5] END .......C=2, gamma=0.01, kernel=rbf;, score=0.829 total time=   0.0s\n",
      "[CV 5/5] END .......C=2, gamma=0.01, kernel=rbf;, score=0.780 total time=   0.0s\n",
      "[CV 1/5] END ....C=2, gamma=0.01, kernel=linear;, score=0.860 total time=   0.0s\n",
      "[CV 2/5] END ....C=2, gamma=0.01, kernel=linear;, score=0.835 total time=   0.0s\n",
      "[CV 3/5] END ....C=2, gamma=0.01, kernel=linear;, score=0.780 total time=   0.0s\n",
      "[CV 4/5] END ....C=2, gamma=0.01, kernel=linear;, score=0.872 total time=   0.0s\n",
      "[CV 5/5] END ....C=2, gamma=0.01, kernel=linear;, score=0.811 total time=   0.0s\n",
      "[CV 1/5] END ......C=2, gamma=0.001, kernel=rbf;, score=0.793 total time=   0.0s\n",
      "[CV 2/5] END ......C=2, gamma=0.001, kernel=rbf;, score=0.726 total time=   0.0s\n",
      "[CV 3/5] END ......C=2, gamma=0.001, kernel=rbf;, score=0.726 total time=   0.0s\n",
      "[CV 4/5] END ......C=2, gamma=0.001, kernel=rbf;, score=0.738 total time=   0.0s\n",
      "[CV 5/5] END ......C=2, gamma=0.001, kernel=rbf;, score=0.750 total time=   0.0s\n",
      "[CV 1/5] END ...C=2, gamma=0.001, kernel=linear;, score=0.860 total time=   0.0s\n",
      "[CV 2/5] END ...C=2, gamma=0.001, kernel=linear;, score=0.835 total time=   0.0s\n",
      "[CV 3/5] END ...C=2, gamma=0.001, kernel=linear;, score=0.780 total time=   0.0s\n",
      "[CV 4/5] END ...C=2, gamma=0.001, kernel=linear;, score=0.872 total time=   0.0s\n",
      "[CV 5/5] END ...C=2, gamma=0.001, kernel=linear;, score=0.811 total time=   0.0s\n",
      "[CV 1/5] END .....C=2, gamma=0.0001, kernel=rbf;, score=0.512 total time=   0.0s\n",
      "[CV 2/5] END .....C=2, gamma=0.0001, kernel=rbf;, score=0.512 total time=   0.0s\n",
      "[CV 3/5] END .....C=2, gamma=0.0001, kernel=rbf;, score=0.512 total time=   0.0s\n",
      "[CV 4/5] END .....C=2, gamma=0.0001, kernel=rbf;, score=0.512 total time=   0.0s\n",
      "[CV 5/5] END .....C=2, gamma=0.0001, kernel=rbf;, score=0.506 total time=   0.0s\n",
      "[CV 1/5] END ..C=2, gamma=0.0001, kernel=linear;, score=0.860 total time=   0.0s\n",
      "[CV 2/5] END ..C=2, gamma=0.0001, kernel=linear;, score=0.835 total time=   0.0s\n",
      "[CV 3/5] END ..C=2, gamma=0.0001, kernel=linear;, score=0.780 total time=   0.0s\n",
      "[CV 4/5] END ..C=2, gamma=0.0001, kernel=linear;, score=0.872 total time=   0.0s\n",
      "[CV 5/5] END ..C=2, gamma=0.0001, kernel=linear;, score=0.811 total time=   0.0s\n",
      "[CV 1/5] END .........C=10, gamma=1, kernel=rbf;, score=0.988 total time=   0.0s\n",
      "[CV 2/5] END .........C=10, gamma=1, kernel=rbf;, score=0.957 total time=   0.0s\n",
      "[CV 3/5] END .........C=10, gamma=1, kernel=rbf;, score=0.933 total time=   0.0s\n",
      "[CV 4/5] END .........C=10, gamma=1, kernel=rbf;, score=0.976 total time=   0.0s\n",
      "[CV 5/5] END .........C=10, gamma=1, kernel=rbf;, score=0.970 total time=   0.0s\n",
      "[CV 1/5] END ......C=10, gamma=1, kernel=linear;, score=0.860 total time=   0.0s\n",
      "[CV 2/5] END ......C=10, gamma=1, kernel=linear;, score=0.860 total time=   0.0s\n",
      "[CV 3/5] END ......C=10, gamma=1, kernel=linear;, score=0.774 total time=   0.0s\n",
      "[CV 4/5] END ......C=10, gamma=1, kernel=linear;, score=0.866 total time=   0.0s\n",
      "[CV 5/5] END ......C=10, gamma=1, kernel=linear;, score=0.823 total time=   0.0s\n",
      "[CV 1/5] END .......C=10, gamma=0.1, kernel=rbf;, score=0.896 total time=   0.0s\n",
      "[CV 2/5] END .......C=10, gamma=0.1, kernel=rbf;, score=0.878 total time=   0.0s\n",
      "[CV 3/5] END .......C=10, gamma=0.1, kernel=rbf;, score=0.829 total time=   0.0s\n",
      "[CV 4/5] END .......C=10, gamma=0.1, kernel=rbf;, score=0.890 total time=   0.0s\n",
      "[CV 5/5] END .......C=10, gamma=0.1, kernel=rbf;, score=0.884 total time=   0.0s\n",
      "[CV 1/5] END ....C=10, gamma=0.1, kernel=linear;, score=0.860 total time=   0.0s\n",
      "[CV 2/5] END ....C=10, gamma=0.1, kernel=linear;, score=0.860 total time=   0.0s\n",
      "[CV 3/5] END ....C=10, gamma=0.1, kernel=linear;, score=0.774 total time=   0.0s\n",
      "[CV 4/5] END ....C=10, gamma=0.1, kernel=linear;, score=0.866 total time=   0.0s\n",
      "[CV 5/5] END ....C=10, gamma=0.1, kernel=linear;, score=0.823 total time=   0.0s\n",
      "[CV 1/5] END ......C=10, gamma=0.01, kernel=rbf;, score=0.854 total time=   0.0s\n",
      "[CV 2/5] END ......C=10, gamma=0.01, kernel=rbf;, score=0.835 total time=   0.0s\n",
      "[CV 3/5] END ......C=10, gamma=0.01, kernel=rbf;, score=0.762 total time=   0.0s\n",
      "[CV 4/5] END ......C=10, gamma=0.01, kernel=rbf;, score=0.860 total time=   0.0s\n",
      "[CV 5/5] END ......C=10, gamma=0.01, kernel=rbf;, score=0.774 total time=   0.0s\n",
      "[CV 1/5] END ...C=10, gamma=0.01, kernel=linear;, score=0.860 total time=   0.0s\n",
      "[CV 2/5] END ...C=10, gamma=0.01, kernel=linear;, score=0.860 total time=   0.0s\n",
      "[CV 3/5] END ...C=10, gamma=0.01, kernel=linear;, score=0.774 total time=   0.0s\n",
      "[CV 4/5] END ...C=10, gamma=0.01, kernel=linear;, score=0.866 total time=   0.0s\n",
      "[CV 5/5] END ...C=10, gamma=0.01, kernel=linear;, score=0.823 total time=   0.0s\n",
      "[CV 1/5] END .....C=10, gamma=0.001, kernel=rbf;, score=0.799 total time=   0.0s\n",
      "[CV 2/5] END .....C=10, gamma=0.001, kernel=rbf;, score=0.787 total time=   0.0s\n",
      "[CV 3/5] END .....C=10, gamma=0.001, kernel=rbf;, score=0.756 total time=   0.0s\n",
      "[CV 4/5] END .....C=10, gamma=0.001, kernel=rbf;, score=0.811 total time=   0.0s\n",
      "[CV 5/5] END .....C=10, gamma=0.001, kernel=rbf;, score=0.780 total time=   0.0s\n",
      "[CV 1/5] END ..C=10, gamma=0.001, kernel=linear;, score=0.860 total time=   0.0s\n",
      "[CV 2/5] END ..C=10, gamma=0.001, kernel=linear;, score=0.860 total time=   0.0s\n",
      "[CV 3/5] END ..C=10, gamma=0.001, kernel=linear;, score=0.774 total time=   0.0s\n",
      "[CV 4/5] END ..C=10, gamma=0.001, kernel=linear;, score=0.866 total time=   0.0s\n",
      "[CV 5/5] END ..C=10, gamma=0.001, kernel=linear;, score=0.823 total time=   0.0s\n",
      "[CV 1/5] END ....C=10, gamma=0.0001, kernel=rbf;, score=0.512 total time=   0.0s\n",
      "[CV 2/5] END ....C=10, gamma=0.0001, kernel=rbf;, score=0.512 total time=   0.0s\n",
      "[CV 3/5] END ....C=10, gamma=0.0001, kernel=rbf;, score=0.512 total time=   0.0s\n",
      "[CV 4/5] END ....C=10, gamma=0.0001, kernel=rbf;, score=0.512 total time=   0.0s\n",
      "[CV 5/5] END ....C=10, gamma=0.0001, kernel=rbf;, score=0.506 total time=   0.0s\n",
      "[CV 1/5] END .C=10, gamma=0.0001, kernel=linear;, score=0.860 total time=   0.0s\n",
      "[CV 2/5] END .C=10, gamma=0.0001, kernel=linear;, score=0.860 total time=   0.0s\n",
      "[CV 3/5] END .C=10, gamma=0.0001, kernel=linear;, score=0.774 total time=   0.0s\n",
      "[CV 4/5] END .C=10, gamma=0.0001, kernel=linear;, score=0.866 total time=   0.0s\n",
      "[CV 5/5] END .C=10, gamma=0.0001, kernel=linear;, score=0.823 total time=   0.0s\n",
      "[CV 1/5] END ........C=100, gamma=1, kernel=rbf;, score=1.000 total time=   0.0s\n",
      "[CV 2/5] END ........C=100, gamma=1, kernel=rbf;, score=1.000 total time=   0.0s\n",
      "[CV 3/5] END ........C=100, gamma=1, kernel=rbf;, score=0.963 total time=   0.0s\n",
      "[CV 4/5] END ........C=100, gamma=1, kernel=rbf;, score=1.000 total time=   0.0s\n",
      "[CV 5/5] END ........C=100, gamma=1, kernel=rbf;, score=0.988 total time=   0.0s\n",
      "[CV 1/5] END .....C=100, gamma=1, kernel=linear;, score=0.854 total time=   0.0s\n",
      "[CV 2/5] END .....C=100, gamma=1, kernel=linear;, score=0.854 total time=   0.0s\n"
     ]
    },
    {
     "name": "stdout",
     "output_type": "stream",
     "text": [
      "[CV 3/5] END .....C=100, gamma=1, kernel=linear;, score=0.774 total time=   0.0s\n",
      "[CV 4/5] END .....C=100, gamma=1, kernel=linear;, score=0.884 total time=   0.0s\n",
      "[CV 5/5] END .....C=100, gamma=1, kernel=linear;, score=0.823 total time=   0.0s\n",
      "[CV 1/5] END ......C=100, gamma=0.1, kernel=rbf;, score=0.909 total time=   0.0s\n",
      "[CV 2/5] END ......C=100, gamma=0.1, kernel=rbf;, score=0.896 total time=   0.0s\n",
      "[CV 3/5] END ......C=100, gamma=0.1, kernel=rbf;, score=0.835 total time=   0.0s\n",
      "[CV 4/5] END ......C=100, gamma=0.1, kernel=rbf;, score=0.896 total time=   0.0s\n",
      "[CV 5/5] END ......C=100, gamma=0.1, kernel=rbf;, score=0.872 total time=   0.0s\n",
      "[CV 1/5] END ...C=100, gamma=0.1, kernel=linear;, score=0.854 total time=   0.0s\n",
      "[CV 2/5] END ...C=100, gamma=0.1, kernel=linear;, score=0.854 total time=   0.0s\n",
      "[CV 3/5] END ...C=100, gamma=0.1, kernel=linear;, score=0.774 total time=   0.0s\n",
      "[CV 4/5] END ...C=100, gamma=0.1, kernel=linear;, score=0.884 total time=   0.0s\n",
      "[CV 5/5] END ...C=100, gamma=0.1, kernel=linear;, score=0.823 total time=   0.0s\n",
      "[CV 1/5] END .....C=100, gamma=0.01, kernel=rbf;, score=0.878 total time=   0.0s\n",
      "[CV 2/5] END .....C=100, gamma=0.01, kernel=rbf;, score=0.848 total time=   0.0s\n",
      "[CV 3/5] END .....C=100, gamma=0.01, kernel=rbf;, score=0.787 total time=   0.0s\n",
      "[CV 4/5] END .....C=100, gamma=0.01, kernel=rbf;, score=0.878 total time=   0.0s\n",
      "[CV 5/5] END .....C=100, gamma=0.01, kernel=rbf;, score=0.817 total time=   0.0s\n",
      "[CV 1/5] END ..C=100, gamma=0.01, kernel=linear;, score=0.854 total time=   0.0s\n",
      "[CV 2/5] END ..C=100, gamma=0.01, kernel=linear;, score=0.854 total time=   0.0s\n",
      "[CV 3/5] END ..C=100, gamma=0.01, kernel=linear;, score=0.774 total time=   0.0s\n",
      "[CV 4/5] END ..C=100, gamma=0.01, kernel=linear;, score=0.884 total time=   0.0s\n",
      "[CV 5/5] END ..C=100, gamma=0.01, kernel=linear;, score=0.823 total time=   0.0s\n",
      "[CV 1/5] END ....C=100, gamma=0.001, kernel=rbf;, score=0.841 total time=   0.0s\n",
      "[CV 2/5] END ....C=100, gamma=0.001, kernel=rbf;, score=0.835 total time=   0.0s\n",
      "[CV 3/5] END ....C=100, gamma=0.001, kernel=rbf;, score=0.768 total time=   0.0s\n",
      "[CV 4/5] END ....C=100, gamma=0.001, kernel=rbf;, score=0.860 total time=   0.0s\n",
      "[CV 5/5] END ....C=100, gamma=0.001, kernel=rbf;, score=0.774 total time=   0.0s\n",
      "[CV 1/5] END .C=100, gamma=0.001, kernel=linear;, score=0.854 total time=   0.0s\n",
      "[CV 2/5] END .C=100, gamma=0.001, kernel=linear;, score=0.854 total time=   0.0s\n",
      "[CV 3/5] END .C=100, gamma=0.001, kernel=linear;, score=0.774 total time=   0.0s\n",
      "[CV 4/5] END .C=100, gamma=0.001, kernel=linear;, score=0.884 total time=   0.0s\n",
      "[CV 5/5] END .C=100, gamma=0.001, kernel=linear;, score=0.823 total time=   0.1s\n",
      "[CV 1/5] END ...C=100, gamma=0.0001, kernel=rbf;, score=0.799 total time=   0.0s\n",
      "[CV 2/5] END ...C=100, gamma=0.0001, kernel=rbf;, score=0.787 total time=   0.0s\n",
      "[CV 3/5] END ...C=100, gamma=0.0001, kernel=rbf;, score=0.756 total time=   0.0s\n",
      "[CV 4/5] END ...C=100, gamma=0.0001, kernel=rbf;, score=0.811 total time=   0.0s\n",
      "[CV 5/5] END ...C=100, gamma=0.0001, kernel=rbf;, score=0.780 total time=   0.0s\n",
      "[CV 1/5] END C=100, gamma=0.0001, kernel=linear;, score=0.854 total time=   0.0s\n",
      "[CV 2/5] END C=100, gamma=0.0001, kernel=linear;, score=0.854 total time=   0.0s\n",
      "[CV 3/5] END C=100, gamma=0.0001, kernel=linear;, score=0.774 total time=   0.0s\n",
      "[CV 4/5] END C=100, gamma=0.0001, kernel=linear;, score=0.884 total time=   0.0s\n",
      "[CV 5/5] END C=100, gamma=0.0001, kernel=linear;, score=0.823 total time=   0.0s\n",
      "[CV 1/5] END .......C=1000, gamma=1, kernel=rbf;, score=1.000 total time=   0.0s\n",
      "[CV 2/5] END .......C=1000, gamma=1, kernel=rbf;, score=1.000 total time=   0.0s\n",
      "[CV 3/5] END .......C=1000, gamma=1, kernel=rbf;, score=0.963 total time=   0.0s\n",
      "[CV 4/5] END .......C=1000, gamma=1, kernel=rbf;, score=1.000 total time=   0.0s\n",
      "[CV 5/5] END .......C=1000, gamma=1, kernel=rbf;, score=0.988 total time=   0.0s\n",
      "[CV 1/5] END ....C=1000, gamma=1, kernel=linear;, score=0.860 total time=   1.2s\n",
      "[CV 2/5] END ....C=1000, gamma=1, kernel=linear;, score=0.848 total time=   0.4s\n",
      "[CV 3/5] END ....C=1000, gamma=1, kernel=linear;, score=0.774 total time=   1.3s\n",
      "[CV 4/5] END ....C=1000, gamma=1, kernel=linear;, score=0.884 total time=   0.4s\n",
      "[CV 5/5] END ....C=1000, gamma=1, kernel=linear;, score=0.835 total time=   0.8s\n",
      "[CV 1/5] END .....C=1000, gamma=0.1, kernel=rbf;, score=0.951 total time=   0.0s\n",
      "[CV 2/5] END .....C=1000, gamma=0.1, kernel=rbf;, score=0.957 total time=   0.0s\n",
      "[CV 3/5] END .....C=1000, gamma=0.1, kernel=rbf;, score=0.896 total time=   0.0s\n",
      "[CV 4/5] END .....C=1000, gamma=0.1, kernel=rbf;, score=0.963 total time=   0.0s\n",
      "[CV 5/5] END .....C=1000, gamma=0.1, kernel=rbf;, score=0.963 total time=   0.0s\n",
      "[CV 1/5] END ..C=1000, gamma=0.1, kernel=linear;, score=0.860 total time=   1.4s\n",
      "[CV 2/5] END ..C=1000, gamma=0.1, kernel=linear;, score=0.848 total time=   0.3s\n",
      "[CV 3/5] END ..C=1000, gamma=0.1, kernel=linear;, score=0.774 total time=   1.4s\n",
      "[CV 4/5] END ..C=1000, gamma=0.1, kernel=linear;, score=0.884 total time=   0.4s\n",
      "[CV 5/5] END ..C=1000, gamma=0.1, kernel=linear;, score=0.835 total time=   0.7s\n",
      "[CV 1/5] END ....C=1000, gamma=0.01, kernel=rbf;, score=0.890 total time=   0.0s\n",
      "[CV 2/5] END ....C=1000, gamma=0.01, kernel=rbf;, score=0.884 total time=   0.0s\n",
      "[CV 3/5] END ....C=1000, gamma=0.01, kernel=rbf;, score=0.823 total time=   0.0s\n",
      "[CV 4/5] END ....C=1000, gamma=0.01, kernel=rbf;, score=0.878 total time=   0.0s\n",
      "[CV 5/5] END ....C=1000, gamma=0.01, kernel=rbf;, score=0.884 total time=   0.0s\n",
      "[CV 1/5] END .C=1000, gamma=0.01, kernel=linear;, score=0.860 total time=   1.3s\n",
      "[CV 2/5] END .C=1000, gamma=0.01, kernel=linear;, score=0.848 total time=   0.3s\n",
      "[CV 3/5] END .C=1000, gamma=0.01, kernel=linear;, score=0.774 total time=   1.3s\n",
      "[CV 4/5] END .C=1000, gamma=0.01, kernel=linear;, score=0.884 total time=   0.4s\n",
      "[CV 5/5] END .C=1000, gamma=0.01, kernel=linear;, score=0.835 total time=   0.7s\n",
      "[CV 1/5] END ...C=1000, gamma=0.001, kernel=rbf;, score=0.860 total time=   0.0s\n",
      "[CV 2/5] END ...C=1000, gamma=0.001, kernel=rbf;, score=0.835 total time=   0.0s\n",
      "[CV 3/5] END ...C=1000, gamma=0.001, kernel=rbf;, score=0.780 total time=   0.0s\n",
      "[CV 4/5] END ...C=1000, gamma=0.001, kernel=rbf;, score=0.872 total time=   0.0s\n",
      "[CV 5/5] END ...C=1000, gamma=0.001, kernel=rbf;, score=0.811 total time=   0.0s\n",
      "[CV 1/5] END C=1000, gamma=0.001, kernel=linear;, score=0.860 total time=   1.3s\n",
      "[CV 2/5] END C=1000, gamma=0.001, kernel=linear;, score=0.848 total time=   0.4s\n",
      "[CV 3/5] END C=1000, gamma=0.001, kernel=linear;, score=0.774 total time=   1.2s\n",
      "[CV 4/5] END C=1000, gamma=0.001, kernel=linear;, score=0.884 total time=   0.3s\n",
      "[CV 5/5] END C=1000, gamma=0.001, kernel=linear;, score=0.835 total time=   0.7s\n",
      "[CV 1/5] END ..C=1000, gamma=0.0001, kernel=rbf;, score=0.841 total time=   0.0s\n",
      "[CV 2/5] END ..C=1000, gamma=0.0001, kernel=rbf;, score=0.835 total time=   0.0s\n",
      "[CV 3/5] END ..C=1000, gamma=0.0001, kernel=rbf;, score=0.768 total time=   0.0s\n",
      "[CV 4/5] END ..C=1000, gamma=0.0001, kernel=rbf;, score=0.860 total time=   0.0s\n",
      "[CV 5/5] END ..C=1000, gamma=0.0001, kernel=rbf;, score=0.774 total time=   0.0s\n",
      "[CV 1/5] END C=1000, gamma=0.0001, kernel=linear;, score=0.860 total time=   1.3s\n",
      "[CV 2/5] END C=1000, gamma=0.0001, kernel=linear;, score=0.848 total time=   0.4s\n",
      "[CV 3/5] END C=1000, gamma=0.0001, kernel=linear;, score=0.774 total time=   1.4s\n",
      "[CV 4/5] END C=1000, gamma=0.0001, kernel=linear;, score=0.884 total time=   0.4s\n",
      "[CV 5/5] END C=1000, gamma=0.0001, kernel=linear;, score=0.835 total time=   0.8s\n",
      "{'C': 100, 'gamma': 1, 'kernel': 'rbf'}\n",
      "Accuracy score:1.0%\n"
     ]
    }
   ],
   "source": [
    "\n",
    "from sklearn.model_selection import GridSearchCV \n",
    "  \n",
    "# defining parameter range \n",
    "param_grid = {'C': [0.1, 1,2, 10, 100, 1000],  \n",
    "              'gamma': [1, 0.1, 0.01, 0.001, 0.0001], \n",
    "              'kernel': ['rbf','linear']}  \n",
    "  \n",
    "gs_clf = GridSearchCV(SVC(), param_grid,cv=5, refit = True, verbose = 3) \n",
    "  \n",
    "# fitting the model for grid search \n",
    "gs_clf.fit(X_train, Y_train)\n",
    "\n",
    "print(gs_clf.best_params_)\n",
    "\n",
    "print(f\"Accuracy score:{gs_clf.score(X_test,Y_test)}%\")\n",
    "\n"
   ]
  },
  {
   "cell_type": "markdown",
   "metadata": {
    "id": "sryQcylLlZXD"
   },
   "source": [
    "# **Hyper parameter tuning KNN using GridSearchCV**"
   ]
  },
  {
   "cell_type": "code",
   "execution_count": 29,
   "metadata": {
    "colab": {
     "base_uri": "https://localhost:8080/"
    },
    "id": "X8JVcryQZXUQ",
    "outputId": "7bcf1a9d-d7b9-413c-da8f-47f33f999773"
   },
   "outputs": [
    {
     "name": "stdout",
     "output_type": "stream",
     "text": [
      "Fitting 5 folds for each of 1421 candidates, totalling 7105 fits\n",
      "Accuracy score:100.0%\n"
     ]
    }
   ],
   "source": [
    "knn_grid={'n_neighbors': np.arange(1,30,1),\n",
    "          'leaf_size': np.arange(1,50,1)}\n",
    "\n",
    "gs_knn=GridSearchCV(KNeighborsClassifier(),param_grid=knn_grid,cv=5,verbose=True)\n",
    "\n",
    "gs_knn.fit(X_train, Y_train)\n",
    "\n",
    "gs_knn.best_params_\n",
    "\n",
    "print(f\"Accuracy score:{gs_knn.score(X_test,Y_test)*100}%\")"
   ]
  },
  {
   "cell_type": "code",
   "execution_count": 30,
   "metadata": {
    "colab": {
     "base_uri": "https://localhost:8080/",
     "height": 206
    },
    "id": "MKj_ibvod7Ag",
    "outputId": "e210ed04-26f7-4bca-fe60-433fc305c6ff"
   },
   "outputs": [
    {
     "data": {
      "text/html": [
       "<div>\n",
       "<style scoped>\n",
       "    .dataframe tbody tr th:only-of-type {\n",
       "        vertical-align: middle;\n",
       "    }\n",
       "\n",
       "    .dataframe tbody tr th {\n",
       "        vertical-align: top;\n",
       "    }\n",
       "\n",
       "    .dataframe thead th {\n",
       "        text-align: right;\n",
       "    }\n",
       "</style>\n",
       "<table border=\"1\" class=\"dataframe\">\n",
       "  <thead>\n",
       "    <tr style=\"text-align: right;\">\n",
       "      <th></th>\n",
       "      <th>Model</th>\n",
       "      <th>Accuracy</th>\n",
       "    </tr>\n",
       "  </thead>\n",
       "  <tbody>\n",
       "    <tr>\n",
       "      <th>0</th>\n",
       "      <td>Logistic Regression</td>\n",
       "      <td>85.853659</td>\n",
       "    </tr>\n",
       "    <tr>\n",
       "      <th>1</th>\n",
       "      <td>Random Forest</td>\n",
       "      <td>90.731707</td>\n",
       "    </tr>\n",
       "    <tr>\n",
       "      <th>2</th>\n",
       "      <td>K-Nearest Neighbour</td>\n",
       "      <td>89.268293</td>\n",
       "    </tr>\n",
       "    <tr>\n",
       "      <th>3</th>\n",
       "      <td>Support Vector Machine</td>\n",
       "      <td>90.243902</td>\n",
       "    </tr>\n",
       "    <tr>\n",
       "      <th>4</th>\n",
       "      <td>Extreme Gradient Boost</td>\n",
       "      <td>100.000000</td>\n",
       "    </tr>\n",
       "  </tbody>\n",
       "</table>\n",
       "</div>"
      ],
      "text/plain": [
       "                    Model    Accuracy\n",
       "0     Logistic Regression   85.853659\n",
       "1           Random Forest   90.731707\n",
       "2     K-Nearest Neighbour   89.268293\n",
       "3  Support Vector Machine   90.243902\n",
       "4  Extreme Gradient Boost  100.000000"
      ]
     },
     "execution_count": 30,
     "metadata": {},
     "output_type": "execute_result"
    }
   ],
   "source": [
    "model_comp = pd.DataFrame({'Model': ['Logistic Regression','Random Forest',\n",
    "                    'K-Nearest Neighbour','Support Vector Machine','Extreme Gradient Boost'], 'Accuracy': [LR_score*100,\n",
    "                    RF2_acc_score*100,Knn_score*100,SVC_score*100, XGB_score*100]})\n",
    "model_comp"
   ]
  },
  {
   "cell_type": "markdown",
   "metadata": {
    "id": "hHaYiX-66XO8"
   },
   "source": [
    "# **Trying StackingCV Classifier**"
   ]
  },
  {
   "cell_type": "code",
   "execution_count": 32,
   "metadata": {},
   "outputs": [
    {
     "name": "stdout",
     "output_type": "stream",
     "text": [
      "Collecting mlxtend\n",
      "  Obtaining dependency information for mlxtend from https://files.pythonhosted.org/packages/1c/07/512f6a780239ad6ce06ce2aa7b4067583f5ddcfc7703a964a082c706a070/mlxtend-0.23.1-py3-none-any.whl.metadata\n",
      "  Downloading mlxtend-0.23.1-py3-none-any.whl.metadata (7.3 kB)\n",
      "Requirement already satisfied: scipy>=1.2.1 in c:\\users\\hardi\\anaconda3\\lib\\site-packages (from mlxtend) (1.10.1)\n",
      "Requirement already satisfied: numpy>=1.16.2 in c:\\users\\hardi\\anaconda3\\lib\\site-packages (from mlxtend) (1.24.3)\n",
      "Requirement already satisfied: pandas>=0.24.2 in c:\\users\\hardi\\anaconda3\\lib\\site-packages (from mlxtend) (1.5.3)\n",
      "Requirement already satisfied: scikit-learn>=1.0.2 in c:\\users\\hardi\\anaconda3\\lib\\site-packages (from mlxtend) (1.3.0)\n",
      "Requirement already satisfied: matplotlib>=3.0.0 in c:\\users\\hardi\\anaconda3\\lib\\site-packages (from mlxtend) (3.7.1)\n",
      "Requirement already satisfied: joblib>=0.13.2 in c:\\users\\hardi\\anaconda3\\lib\\site-packages (from mlxtend) (1.2.0)\n",
      "Requirement already satisfied: contourpy>=1.0.1 in c:\\users\\hardi\\anaconda3\\lib\\site-packages (from matplotlib>=3.0.0->mlxtend) (1.0.5)\n",
      "Requirement already satisfied: cycler>=0.10 in c:\\users\\hardi\\anaconda3\\lib\\site-packages (from matplotlib>=3.0.0->mlxtend) (0.11.0)\n",
      "Requirement already satisfied: fonttools>=4.22.0 in c:\\users\\hardi\\anaconda3\\lib\\site-packages (from matplotlib>=3.0.0->mlxtend) (4.25.0)\n",
      "Requirement already satisfied: kiwisolver>=1.0.1 in c:\\users\\hardi\\anaconda3\\lib\\site-packages (from matplotlib>=3.0.0->mlxtend) (1.4.4)\n",
      "Requirement already satisfied: packaging>=20.0 in c:\\users\\hardi\\anaconda3\\lib\\site-packages (from matplotlib>=3.0.0->mlxtend) (23.2)\n",
      "Requirement already satisfied: pillow>=6.2.0 in c:\\users\\hardi\\anaconda3\\lib\\site-packages (from matplotlib>=3.0.0->mlxtend) (9.4.0)\n",
      "Requirement already satisfied: pyparsing>=2.3.1 in c:\\users\\hardi\\anaconda3\\lib\\site-packages (from matplotlib>=3.0.0->mlxtend) (3.0.9)\n",
      "Requirement already satisfied: python-dateutil>=2.7 in c:\\users\\hardi\\anaconda3\\lib\\site-packages (from matplotlib>=3.0.0->mlxtend) (2.8.2)\n",
      "Requirement already satisfied: pytz>=2020.1 in c:\\users\\hardi\\anaconda3\\lib\\site-packages (from pandas>=0.24.2->mlxtend) (2022.7)\n",
      "Requirement already satisfied: threadpoolctl>=2.0.0 in c:\\users\\hardi\\anaconda3\\lib\\site-packages (from scikit-learn>=1.0.2->mlxtend) (2.2.0)\n",
      "Requirement already satisfied: six>=1.5 in c:\\users\\hardi\\anaconda3\\lib\\site-packages (from python-dateutil>=2.7->matplotlib>=3.0.0->mlxtend) (1.16.0)\n",
      "Downloading mlxtend-0.23.1-py3-none-any.whl (1.4 MB)\n",
      "   ---------------------------------------- 0.0/1.4 MB ? eta -:--:--\n",
      "    --------------------------------------- 0.0/1.4 MB ? eta -:--:--\n",
      "    --------------------------------------- 0.0/1.4 MB ? eta -:--:--\n",
      "    --------------------------------------- 0.0/1.4 MB ? eta -:--:--\n",
      "   - -------------------------------------- 0.0/1.4 MB 245.8 kB/s eta 0:00:06\n",
      "   - -------------------------------------- 0.1/1.4 MB 272.3 kB/s eta 0:00:06\n",
      "   -- ------------------------------------- 0.1/1.4 MB 305.0 kB/s eta 0:00:05\n",
      "   -- ------------------------------------- 0.1/1.4 MB 305.0 kB/s eta 0:00:05\n",
      "   -- ------------------------------------- 0.1/1.4 MB 238.1 kB/s eta 0:00:06\n",
      "   -- ------------------------------------- 0.1/1.4 MB 238.1 kB/s eta 0:00:06\n",
      "   --- ------------------------------------ 0.1/1.4 MB 242.7 kB/s eta 0:00:06\n",
      "   --- ------------------------------------ 0.1/1.4 MB 242.7 kB/s eta 0:00:06\n",
      "   --- ------------------------------------ 0.1/1.4 MB 242.7 kB/s eta 0:00:06\n",
      "   --- ------------------------------------ 0.1/1.4 MB 194.9 kB/s eta 0:00:07\n",
      "   --- ------------------------------------ 0.1/1.4 MB 218.2 kB/s eta 0:00:06\n",
      "   --- ------------------------------------ 0.1/1.4 MB 218.2 kB/s eta 0:00:06\n",
      "   ---- ----------------------------------- 0.2/1.4 MB 209.0 kB/s eta 0:00:07\n",
      "   ---- ----------------------------------- 0.2/1.4 MB 209.0 kB/s eta 0:00:07\n",
      "   ---- ----------------------------------- 0.2/1.4 MB 209.0 kB/s eta 0:00:07\n",
      "   ---- ----------------------------------- 0.2/1.4 MB 190.5 kB/s eta 0:00:07\n",
      "   ---- ----------------------------------- 0.2/1.4 MB 190.5 kB/s eta 0:00:07\n",
      "   ---- ----------------------------------- 0.2/1.4 MB 190.5 kB/s eta 0:00:07\n",
      "   ----- ---------------------------------- 0.2/1.4 MB 190.2 kB/s eta 0:00:07\n",
      "   ----- ---------------------------------- 0.2/1.4 MB 190.2 kB/s eta 0:00:07\n",
      "   ----- ---------------------------------- 0.2/1.4 MB 190.2 kB/s eta 0:00:07\n",
      "   ----- ---------------------------------- 0.2/1.4 MB 175.3 kB/s eta 0:00:08\n",
      "   ------ --------------------------------- 0.2/1.4 MB 181.0 kB/s eta 0:00:07\n",
      "   ------ --------------------------------- 0.2/1.4 MB 181.0 kB/s eta 0:00:07\n",
      "   ------ --------------------------------- 0.2/1.4 MB 181.0 kB/s eta 0:00:07\n",
      "   ------ --------------------------------- 0.2/1.4 MB 179.4 kB/s eta 0:00:07\n",
      "   ------ --------------------------------- 0.2/1.4 MB 179.4 kB/s eta 0:00:07\n",
      "   ------- -------------------------------- 0.3/1.4 MB 178.7 kB/s eta 0:00:07\n",
      "   ------- -------------------------------- 0.3/1.4 MB 178.7 kB/s eta 0:00:07\n",
      "   ------- -------------------------------- 0.3/1.4 MB 181.2 kB/s eta 0:00:07\n",
      "   ------- -------------------------------- 0.3/1.4 MB 180.6 kB/s eta 0:00:07\n",
      "   ------- -------------------------------- 0.3/1.4 MB 180.6 kB/s eta 0:00:07\n",
      "   -------- ------------------------------- 0.3/1.4 MB 184.4 kB/s eta 0:00:07\n",
      "   --------- ------------------------------ 0.3/1.4 MB 189.9 kB/s eta 0:00:06\n",
      "   --------- ------------------------------ 0.3/1.4 MB 192.4 kB/s eta 0:00:06\n",
      "   --------- ------------------------------ 0.4/1.4 MB 200.7 kB/s eta 0:00:06\n",
      "   ---------- ----------------------------- 0.4/1.4 MB 199.4 kB/s eta 0:00:06\n",
      "   ---------- ----------------------------- 0.4/1.4 MB 199.4 kB/s eta 0:00:06\n",
      "   ---------- ----------------------------- 0.4/1.4 MB 198.8 kB/s eta 0:00:06\n",
      "   ----------- ---------------------------- 0.4/1.4 MB 206.1 kB/s eta 0:00:06\n",
      "   ----------- ---------------------------- 0.4/1.4 MB 206.3 kB/s eta 0:00:05\n",
      "   ----------- ---------------------------- 0.4/1.4 MB 206.3 kB/s eta 0:00:05\n",
      "   ------------ --------------------------- 0.4/1.4 MB 208.5 kB/s eta 0:00:05\n",
      "   ------------ --------------------------- 0.4/1.4 MB 208.5 kB/s eta 0:00:05\n",
      "   ------------ --------------------------- 0.4/1.4 MB 208.5 kB/s eta 0:00:05\n",
      "   ------------ --------------------------- 0.5/1.4 MB 201.2 kB/s eta 0:00:05\n",
      "   ------------ --------------------------- 0.5/1.4 MB 203.4 kB/s eta 0:00:05\n",
      "   ------------ --------------------------- 0.5/1.4 MB 203.4 kB/s eta 0:00:05\n",
      "   ------------- -------------------------- 0.5/1.4 MB 205.3 kB/s eta 0:00:05\n",
      "   ------------- -------------------------- 0.5/1.4 MB 207.0 kB/s eta 0:00:05\n",
      "   ------------- -------------------------- 0.5/1.4 MB 207.0 kB/s eta 0:00:05\n",
      "   -------------- ------------------------- 0.5/1.4 MB 207.4 kB/s eta 0:00:05\n",
      "   -------------- ------------------------- 0.5/1.4 MB 208.9 kB/s eta 0:00:05\n",
      "   -------------- ------------------------- 0.5/1.4 MB 208.9 kB/s eta 0:00:05\n",
      "   --------------- ------------------------ 0.6/1.4 MB 207.9 kB/s eta 0:00:05\n",
      "   --------------- ------------------------ 0.6/1.4 MB 212.0 kB/s eta 0:00:05\n",
      "   ---------------- ----------------------- 0.6/1.4 MB 212.1 kB/s eta 0:00:05\n",
      "   ---------------- ----------------------- 0.6/1.4 MB 212.1 kB/s eta 0:00:05\n",
      "   ---------------- ----------------------- 0.6/1.4 MB 212.3 kB/s eta 0:00:04\n",
      "   ---------------- ----------------------- 0.6/1.4 MB 211.2 kB/s eta 0:00:04\n",
      "   ---------------- ----------------------- 0.6/1.4 MB 211.2 kB/s eta 0:00:04\n",
      "   ----------------- ---------------------- 0.6/1.4 MB 211.5 kB/s eta 0:00:04\n",
      "   ----------------- ---------------------- 0.6/1.4 MB 211.5 kB/s eta 0:00:04\n",
      "   ----------------- ---------------------- 0.6/1.4 MB 211.5 kB/s eta 0:00:04\n",
      "   ------------------ --------------------- 0.7/1.4 MB 210.6 kB/s eta 0:00:04\n",
      "   ------------------ --------------------- 0.7/1.4 MB 210.6 kB/s eta 0:00:04\n",
      "   ------------------ --------------------- 0.7/1.4 MB 205.6 kB/s eta 0:00:04\n",
      "   ------------------ --------------------- 0.7/1.4 MB 205.6 kB/s eta 0:00:04\n",
      "   ------------------ --------------------- 0.7/1.4 MB 207.9 kB/s eta 0:00:04\n",
      "   ------------------- -------------------- 0.7/1.4 MB 207.1 kB/s eta 0:00:04\n",
      "   ------------------- -------------------- 0.7/1.4 MB 207.1 kB/s eta 0:00:04\n",
      "   ------------------- -------------------- 0.7/1.4 MB 206.5 kB/s eta 0:00:04\n",
      "   ------------------- -------------------- 0.7/1.4 MB 206.5 kB/s eta 0:00:04\n",
      "   ------------------- -------------------- 0.7/1.4 MB 206.5 kB/s eta 0:00:04\n",
      "   -------------------- ------------------- 0.7/1.4 MB 205.0 kB/s eta 0:00:04\n",
      "   -------------------- ------------------- 0.7/1.4 MB 205.0 kB/s eta 0:00:04\n",
      "   -------------------- ------------------- 0.7/1.4 MB 205.0 kB/s eta 0:00:04\n",
      "   -------------------- ------------------- 0.7/1.4 MB 199.1 kB/s eta 0:00:04\n",
      "   -------------------- ------------------- 0.7/1.4 MB 199.1 kB/s eta 0:00:04\n",
      "   -------------------- ------------------- 0.7/1.4 MB 199.1 kB/s eta 0:00:04\n",
      "   --------------------- ------------------ 0.8/1.4 MB 198.7 kB/s eta 0:00:04\n",
      "   --------------------- ------------------ 0.8/1.4 MB 198.7 kB/s eta 0:00:04\n",
      "   --------------------- ------------------ 0.8/1.4 MB 198.7 kB/s eta 0:00:04\n",
      "   --------------------- ------------------ 0.8/1.4 MB 198.7 kB/s eta 0:00:04\n",
      "   --------------------- ------------------ 0.8/1.4 MB 192.7 kB/s eta 0:00:04\n",
      "   --------------------- ------------------ 0.8/1.4 MB 192.7 kB/s eta 0:00:04\n",
      "   ---------------------- ----------------- 0.8/1.4 MB 191.8 kB/s eta 0:00:04\n",
      "   ---------------------- ----------------- 0.8/1.4 MB 191.8 kB/s eta 0:00:04\n",
      "   ---------------------- ----------------- 0.8/1.4 MB 191.8 kB/s eta 0:00:04\n",
      "   ---------------------- ----------------- 0.8/1.4 MB 190.3 kB/s eta 0:00:04\n",
      "   ---------------------- ----------------- 0.8/1.4 MB 190.3 kB/s eta 0:00:04\n",
      "   ---------------------- ----------------- 0.8/1.4 MB 190.3 kB/s eta 0:00:04\n",
      "   ---------------------- ----------------- 0.8/1.4 MB 187.2 kB/s eta 0:00:04\n",
      "   ---------------------- ----------------- 0.8/1.4 MB 187.2 kB/s eta 0:00:04\n",
      "   ---------------------- ----------------- 0.8/1.4 MB 187.2 kB/s eta 0:00:04\n",
      "   ---------------------- ----------------- 0.8/1.4 MB 187.2 kB/s eta 0:00:04\n",
      "   ---------------------- ----------------- 0.8/1.4 MB 187.2 kB/s eta 0:00:04\n",
      "   ---------------------- ----------------- 0.8/1.4 MB 187.2 kB/s eta 0:00:04\n",
      "   ---------------------- ----------------- 0.8/1.4 MB 187.2 kB/s eta 0:00:04\n",
      "   ------------------------ --------------- 0.9/1.4 MB 182.3 kB/s eta 0:00:04\n",
      "   ------------------------ --------------- 0.9/1.4 MB 183.2 kB/s eta 0:00:04\n",
      "   ------------------------ --------------- 0.9/1.4 MB 183.2 kB/s eta 0:00:04\n",
      "   ------------------------ --------------- 0.9/1.4 MB 185.1 kB/s eta 0:00:03\n",
      "   ------------------------- -------------- 0.9/1.4 MB 187.5 kB/s eta 0:00:03\n",
      "   ------------------------- -------------- 0.9/1.4 MB 187.9 kB/s eta 0:00:03\n",
      "   -------------------------- ------------- 1.0/1.4 MB 190.2 kB/s eta 0:00:03\n",
      "   --------------------------- ------------ 1.0/1.4 MB 193.9 kB/s eta 0:00:03\n",
      "   --------------------------- ------------ 1.0/1.4 MB 195.6 kB/s eta 0:00:03\n",
      "   --------------------------- ------------ 1.0/1.4 MB 196.4 kB/s eta 0:00:03\n",
      "   ---------------------------- ----------- 1.0/1.4 MB 198.6 kB/s eta 0:00:03\n",
      "   ---------------------------- ----------- 1.0/1.4 MB 198.6 kB/s eta 0:00:03\n",
      "   ---------------------------- ----------- 1.0/1.4 MB 198.2 kB/s eta 0:00:03\n",
      "   ---------------------------- ----------- 1.0/1.4 MB 198.2 kB/s eta 0:00:03\n",
      "   ------------------------------ --------- 1.1/1.4 MB 203.1 kB/s eta 0:00:02\n",
      "   ------------------------------ --------- 1.1/1.4 MB 203.1 kB/s eta 0:00:02\n",
      "   ------------------------------- -------- 1.1/1.4 MB 205.3 kB/s eta 0:00:02\n",
      "   ------------------------------- -------- 1.1/1.4 MB 207.8 kB/s eta 0:00:02\n",
      "   ------------------------------- -------- 1.1/1.4 MB 207.8 kB/s eta 0:00:02\n",
      "   -------------------------------- ------- 1.2/1.4 MB 209.3 kB/s eta 0:00:02\n",
      "   -------------------------------- ------- 1.2/1.4 MB 209.3 kB/s eta 0:00:02\n",
      "   --------------------------------- ------ 1.2/1.4 MB 214.8 kB/s eta 0:00:02\n",
      "   ---------------------------------- ----- 1.2/1.4 MB 217.8 kB/s eta 0:00:01\n",
      "   ----------------------------------- ---- 1.3/1.4 MB 220.8 kB/s eta 0:00:01\n",
      "   ----------------------------------- ---- 1.3/1.4 MB 220.8 kB/s eta 0:00:01\n",
      "   ----------------------------------- ---- 1.3/1.4 MB 221.4 kB/s eta 0:00:01\n",
      "   ----------------------------------- ---- 1.3/1.4 MB 221.4 kB/s eta 0:00:01\n",
      "   ------------------------------------ --- 1.3/1.4 MB 219.6 kB/s eta 0:00:01\n",
      "   ------------------------------------ --- 1.3/1.4 MB 219.6 kB/s eta 0:00:01\n",
      "   ------------------------------------ --- 1.3/1.4 MB 219.6 kB/s eta 0:00:01\n",
      "   ------------------------------------ --- 1.3/1.4 MB 219.6 kB/s eta 0:00:01\n",
      "   ------------------------------------ --- 1.3/1.4 MB 219.6 kB/s eta 0:00:01\n",
      "   ------------------------------------ --- 1.3/1.4 MB 214.0 kB/s eta 0:00:01\n",
      "   ------------------------------------ --- 1.3/1.4 MB 214.0 kB/s eta 0:00:01\n",
      "   ------------------------------------ --- 1.3/1.4 MB 214.0 kB/s eta 0:00:01\n",
      "   ------------------------------------- -- 1.3/1.4 MB 211.4 kB/s eta 0:00:01\n",
      "   ------------------------------------- -- 1.3/1.4 MB 211.4 kB/s eta 0:00:01\n",
      "   ------------------------------------- -- 1.3/1.4 MB 211.4 kB/s eta 0:00:01\n",
      "   ------------------------------------- -- 1.4/1.4 MB 210.5 kB/s eta 0:00:01\n",
      "   -------------------------------------- - 1.4/1.4 MB 211.1 kB/s eta 0:00:01\n",
      "   -------------------------------------- - 1.4/1.4 MB 211.1 kB/s eta 0:00:01\n",
      "   -------------------------------------- - 1.4/1.4 MB 210.2 kB/s eta 0:00:01\n",
      "   -------------------------------------- - 1.4/1.4 MB 210.2 kB/s eta 0:00:01\n",
      "   -------------------------------------- - 1.4/1.4 MB 210.8 kB/s eta 0:00:01\n",
      "   ---------------------------------------  1.4/1.4 MB 210.3 kB/s eta 0:00:01\n",
      "   ---------------------------------------  1.4/1.4 MB 210.3 kB/s eta 0:00:01\n",
      "   ---------------------------------------  1.4/1.4 MB 210.3 kB/s eta 0:00:01\n",
      "   ---------------------------------------- 1.4/1.4 MB 209.4 kB/s eta 0:00:00\n",
      "Installing collected packages: mlxtend\n",
      "Successfully installed mlxtend-0.23.1\n"
     ]
    }
   ],
   "source": [
    "!pip install mlxtend"
   ]
  },
  {
   "cell_type": "code",
   "execution_count": 33,
   "metadata": {
    "colab": {
     "base_uri": "https://localhost:8080/"
    },
    "id": "SX6i5-9-4OC1",
    "outputId": "db502daa-0da3-4c4e-963e-b3e7bc0d108f"
   },
   "outputs": [
    {
     "name": "stdout",
     "output_type": "stream",
     "text": [
      "{'accuracy': 0.902, 'recall': 0.944, 'F1 score': 0.91}\n"
     ]
    }
   ],
   "source": [
    "from mlxtend.classifier import StackingCVClassifier\n",
    "scv=StackingCVClassifier(classifiers=[xgb,Knn_clf,RF_clf2],meta_classifier= Knn_clf)\n",
    "scv.fit(X_train,Y_train)\n",
    "scv_score=scv.score(X_test,Y_test)\n",
    "scv_Y_pred=scv.predict(X_test)\n",
    "#print(SVC_score)\n",
    "evaluation(Y_test,scv_Y_pred)"
   ]
  },
  {
   "cell_type": "code",
   "execution_count": 34,
   "metadata": {
    "colab": {
     "base_uri": "https://localhost:8080/",
     "height": 238
    },
    "id": "Fr7YU5WcacoH",
    "outputId": "fb244f04-2190-45ee-b7eb-260549cf064c"
   },
   "outputs": [
    {
     "data": {
      "text/html": [
       "<div>\n",
       "<style scoped>\n",
       "    .dataframe tbody tr th:only-of-type {\n",
       "        vertical-align: middle;\n",
       "    }\n",
       "\n",
       "    .dataframe tbody tr th {\n",
       "        vertical-align: top;\n",
       "    }\n",
       "\n",
       "    .dataframe thead th {\n",
       "        text-align: right;\n",
       "    }\n",
       "</style>\n",
       "<table border=\"1\" class=\"dataframe\">\n",
       "  <thead>\n",
       "    <tr style=\"text-align: right;\">\n",
       "      <th></th>\n",
       "      <th>Model</th>\n",
       "      <th>Accuracy</th>\n",
       "    </tr>\n",
       "  </thead>\n",
       "  <tbody>\n",
       "    <tr>\n",
       "      <th>0</th>\n",
       "      <td>Logistic Regression</td>\n",
       "      <td>85.853659</td>\n",
       "    </tr>\n",
       "    <tr>\n",
       "      <th>1</th>\n",
       "      <td>Random Forest</td>\n",
       "      <td>90.731707</td>\n",
       "    </tr>\n",
       "    <tr>\n",
       "      <th>2</th>\n",
       "      <td>K-Nearest Neighbour</td>\n",
       "      <td>89.268293</td>\n",
       "    </tr>\n",
       "    <tr>\n",
       "      <th>3</th>\n",
       "      <td>Support Vector Machine</td>\n",
       "      <td>90.243902</td>\n",
       "    </tr>\n",
       "    <tr>\n",
       "      <th>4</th>\n",
       "      <td>Extreme Gradient Boost</td>\n",
       "      <td>100.000000</td>\n",
       "    </tr>\n",
       "    <tr>\n",
       "      <th>5</th>\n",
       "      <td>StackingCV Classifier</td>\n",
       "      <td>90.243902</td>\n",
       "    </tr>\n",
       "  </tbody>\n",
       "</table>\n",
       "</div>"
      ],
      "text/plain": [
       "                    Model    Accuracy\n",
       "0     Logistic Regression   85.853659\n",
       "1           Random Forest   90.731707\n",
       "2     K-Nearest Neighbour   89.268293\n",
       "3  Support Vector Machine   90.243902\n",
       "4  Extreme Gradient Boost  100.000000\n",
       "5   StackingCV Classifier   90.243902"
      ]
     },
     "execution_count": 34,
     "metadata": {},
     "output_type": "execute_result"
    }
   ],
   "source": [
    "model_comp = pd.DataFrame({'Model': ['Logistic Regression','Random Forest',\n",
    "                    'K-Nearest Neighbour','Support Vector Machine','Extreme Gradient Boost', 'StackingCV Classifier'], 'Accuracy': [LR_score*100,\n",
    "                    RF2_acc_score*100,Knn_score*100,SVC_score*100, XGB_score*100, scv_score*100]})\n",
    "model_comp"
   ]
  },
  {
   "cell_type": "markdown",
   "metadata": {
    "id": "G1Ry0djK6V3q"
   },
   "source": [
    "# **Looking at the evaluation metrics for our best model**\n",
    "\n",
    "As we can see, the StackingCV Classifier gives us an accuracy of 92%. \n",
    "\n",
    "Let us evaluate the model now."
   ]
  },
  {
   "cell_type": "code",
   "execution_count": 35,
   "metadata": {
    "colab": {
     "base_uri": "https://localhost:8080/"
    },
    "id": "1cWWvK2R6uhR",
    "outputId": "937de76a-0bb9-49b6-8f5f-59751873beb1"
   },
   "outputs": [
    {
     "name": "stdout",
     "output_type": "stream",
     "text": [
      " Best evaluation parameters achieved with KNN:\n",
      "{'accuracy': 0.902, 'recall': 0.944, 'F1 score': 0.91}\n"
     ]
    }
   ],
   "source": [
    "print(\" Best evaluation parameters achieved with KNN:\") \n",
    "evaluation(Y_test,scv_Y_pred)"
   ]
  },
  {
   "cell_type": "code",
   "execution_count": 36,
   "metadata": {
    "colab": {
     "base_uri": "https://localhost:8080/",
     "height": 317
    },
    "id": "o1iTYKLe7GDM",
    "outputId": "83a29767-ffcd-4ea4-b312-65f3333b5948"
   },
   "outputs": [
    {
     "data": {
      "image/png": "[encoded data removed]",
      "text/plain": [
       "<Figure size 640x480 with 1 Axes>"
      ]
     },
     "metadata": {},
     "output_type": "display_data"
    }
   ],
   "source": [
    "final_metrics={'Accuracy': scv.score(X_test,Y_test),\n",
    "                   'Precision': precision_score(Y_test,scv_Y_pred),\n",
    "                   'Recall': recall_score(Y_test,scv_Y_pred),\n",
    "                   'F1': f1_score(Y_test,scv_Y_pred),\n",
    "                   'AUC': roc_auc_score(Y_test,scv_Y_pred)}\n",
    "\n",
    "metrics=pd.DataFrame(final_metrics,index=[0])\n",
    "\n",
    "metrics.T.plot.bar(title='Final metric evaluation',legend=False);"
   ]
  },
  {
   "cell_type": "code",
   "execution_count": 37,
   "metadata": {
    "colab": {
     "base_uri": "https://localhost:8080/",
     "height": 265
    },
    "id": "gxFZPBTNiO6A",
    "outputId": "22f1643d-3f0f-4945-a7b0-c6bb65db0c26"
   },
   "outputs": [
    {
     "data": {
      "image/png": "[encoded data removed]",
      "text/plain": [
       "<Figure size 640x480 with 2 Axes>"
      ]
     },
     "metadata": {},
     "output_type": "display_data"
    }
   ],
   "source": [
    "from sklearn.metrics import confusion_matrix\n",
    "\n",
    "fig,ax=plt.subplots()\n",
    "ax=sns.heatmap(confusion_matrix(Y_test,Knn_Y_pred),annot=True,cbar=True);"
   ]
  },
  {
   "cell_type": "code",
   "execution_count": 39,
   "metadata": {
    "colab": {
     "base_uri": "https://localhost:8080/"
    },
    "id": "JEiI-UElnjaV",
    "outputId": "2ee91f46-451c-4588-cb93-0862893e375d"
   },
   "outputs": [
    {
     "name": "stdout",
     "output_type": "stream",
     "text": [
      "Enter the values one by one57,0,0,120,354,0,1,163,1,0.6,2,0,2\n",
      "You are healthy and are less likely to get a heart disease!\n"
     ]
    },
    {
     "name": "stderr",
     "output_type": "stream",
     "text": [
      "C:\\Users\\hardi\\anaconda3\\Lib\\site-packages\\sklearn\\base.py:464: UserWarning: X does not have valid feature names, but MinMaxScaler was fitted with feature names\n",
      "  warnings.warn(\n"
     ]
    }
   ],
   "source": [
    "user_input=input(\"Enter the values one by one\")\n",
    "user_input=user_input.split(\",\")\n",
    "\n",
    "\n",
    "for i in range(len(user_input)):\n",
    "    # convert each item to int type\n",
    "    user_input[i] = float(user_input[i])\n",
    "\n",
    "user_input=np.array(user_input)\n",
    "user_input=user_input.reshape(1,-1)\n",
    "user_input=scal.transform(user_input)\n",
    "scv_Y_pred=scv.predict(user_input)\n",
    "if(scv_Y_pred[0]==0):\n",
    "  print(\"Warning! You have chances of getting a heart disease!\")\n",
    "else:\n",
    "  print(\"You are healthy and are less likely to get a heart disease!\")\n"
   ]
  },
  {
   "cell_type": "markdown",
   "metadata": {
    "id": "vgjyifdT90gH"
   },
   "source": [
    "\n",
    "# **Let's save our model using pickle**"
   ]
  },
  {
   "cell_type": "code",
   "execution_count": 40,
   "metadata": {
    "id": "ukFKuTHm7lSn"
   },
   "outputs": [],
   "source": [
    "import pickle as pkl\n",
    "pkl.dump(scv,open(\"final_model.p\",\"wb\"))"
   ]
  }
 ],
 "metadata": {
  "colab": {
   "collapsed_sections": [],
   "include_colab_link": true,
   "name": "complete-heart-disease-classification-deployment.ipynb",
   "provenance": []
  },
  "kernelspec": {
   "display_name": "Python 3 (ipykernel)",
   "language": "python",
   "name": "python3"
  },
  "language_info": {
   "codemirror_mode": {
    "name": "ipython",
    "version": 3
   },
   "file_extension": ".py",
   "mimetype": "text/x-python",
   "name": "python",
   "nbconvert_exporter": "python",
   "pygments_lexer": "ipython3",
   "version": "3.11.4"
  }
 },
 "nbformat": 4,
 "nbformat_minor": 1
}
